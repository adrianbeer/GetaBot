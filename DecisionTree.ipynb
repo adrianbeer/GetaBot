{
 "cells": [
  {
   "cell_type": "code",
   "execution_count": null,
   "id": "eca78891",
   "metadata": {},
   "outputs": [],
   "source": [
    "from bot import get_historical_data\n",
    "import pandas as pd\n",
    "from binance.client import Client\n",
    "import matplotlib.pyplot as plt\n",
    "import numpy as np\n",
    "import pandas as pd\n",
    "from sklearn.model_selection import train_test_split, GridSearchCV\n",
    "from sklearn.tree import DecisionTreeClassifier\n",
    "from sklearn.ensemble import RandomForestClassifier\n",
    "from sklearn.metrics import classification_report, make_scorer, precision_score\n",
    "from itertools import combinations"
   ]
  },
  {
   "cell_type": "code",
   "execution_count": null,
   "id": "3067658c",
   "metadata": {},
   "outputs": [],
   "source": [
    "transaction_costs = 0.0005\n",
    "# Start investment is EURO!"
   ]
  },
  {
   "cell_type": "code",
   "execution_count": null,
   "id": "060c71e0",
   "metadata": {},
   "outputs": [],
   "source": [
    "# Fetch Bitcoin prices at 5-minute intervals for the last 40 days\n",
    "symbol = 'BTCEUR'\n",
    "days = 10000\n",
    "\n",
    "bitcoin_data_hour = get_historical_data(symbol, Client.KLINE_INTERVAL_1HOUR, days)\n",
    "#bitcoin_data_5minute = get_historical_data(symbol, Client.KLINE_INTERVAL_5MINUTE, days)"
   ]
  },
  {
   "cell_type": "code",
   "execution_count": null,
   "id": "9f553d04",
   "metadata": {},
   "outputs": [],
   "source": [
    "bitcoin_data_hour[\"Open time\"]"
   ]
  },
  {
   "cell_type": "code",
   "execution_count": null,
   "id": "598506ba",
   "metadata": {},
   "outputs": [],
   "source": [
    "bitcoin_data_hour.shape"
   ]
  },
  {
   "cell_type": "code",
   "execution_count": null,
   "id": "d3342974",
   "metadata": {},
   "outputs": [],
   "source": [
    "bitcoin_data_hour[\"pct\"] = bitcoin_data_hour[\"Close\"].pct_change().shift(-1)    #time shift ist WICHTIG! einer der häufigsten Fehler, wenn er vergessen wird\n",
    "#bitcoin_data_5minute[\"pct\"] = bitcoin_data_5minute[\"Close\"].pct_change().shift(-1)"
   ]
  },
  {
   "cell_type": "code",
   "execution_count": null,
   "id": "ef53ad65",
   "metadata": {},
   "outputs": [],
   "source": [
    "bitcoin_data_hour.dropna(inplace=True)\n",
    "#bitcoin_data_5minute.dropna(inplace=True)\n",
    "\n",
    "df_hour = bitcoin_data_hour\n",
    "#df_5minute = bitcoin_data_5minute"
   ]
  },
  {
   "cell_type": "code",
   "execution_count": null,
   "id": "950e8103",
   "metadata": {},
   "outputs": [],
   "source": [
    "def sharpe_ratio(s):\n",
    "    s = np.log(1+s)\n",
    "    sharpe = s.mean() / s.std()\n",
    "    print(f\"mean={s.mean():.6f}, std={s.std():.6f}\")\n",
    "    return sharpe"
   ]
  },
  {
   "cell_type": "code",
   "execution_count": null,
   "id": "9027a97e",
   "metadata": {},
   "outputs": [],
   "source": [
    "#Funktion um zu zählen wie häufig ein buy Signal hinter einander auftritt\n",
    "def count_consecutive_ones(data: pd.DataFrame, signal_col: str):\n",
    "    new_column_name = signal_col + \"_count\"\n",
    "    \n",
    "    count = 0\n",
    "    counts = []\n",
    "    \n",
    "    for value in data[signal_col]:\n",
    "        if value == 1:\n",
    "            count += 1\n",
    "        else:\n",
    "            count = 0\n",
    "        counts.append(count)\n",
    "    \n",
    "    data[new_column_name] = counts"
   ]
  },
  {
   "cell_type": "markdown",
   "id": "fcddc4a7",
   "metadata": {},
   "source": [
    "### Indikatoren und Indexe berechnen"
   ]
  },
  {
   "cell_type": "code",
   "execution_count": null,
   "id": "2b1ad3a4",
   "metadata": {},
   "outputs": [],
   "source": [
    "def OBV_berechnen(data:pd.DataFrame):\n",
    "    #benötigt ein DataFrame mit den Spalten \"4a. close (EUR)\" und \"5. volume\"\n",
    "    data[\"OBV\"] = (np.sign(data[\"Close\"].pct_change()) * data[\"Volume\"]).cumsum()\n",
    "    \n",
    "def SMA_berechnen(data:pd.DataFrame, intervall:int):\n",
    "    spalten_name = \"SMA_\"+str(intervall)\n",
    "    data[spalten_name] = data[\"Close\"].rolling(intervall).mean()\n",
    "    spalten_name_sig = \"SMA_\"+str(intervall)+\"_Sig\"\n",
    "    data[spalten_name_sig] = (data[\"Close\"]>data[spalten_name]).astype(int)\n",
    "    print(data[spalten_name_sig].mean())\n",
    "    count_consecutive_ones(data, spalten_name_sig)\n",
    "    \n",
    "def RSI_berechnen(data:pd.DataFrame, intervall:int):\n",
    "\n",
    "    spalten_name = \"RSI_\"+str(intervall)\n",
    "\n",
    "    # Bestimme die Preisänderung zum jeweiligen Zeitpunkt t-1\n",
    "    delta = data[\"Close\"].diff()\n",
    "\n",
    "    # Get rid of the first row, which has NaN values\n",
    "    delta = delta[1:]\n",
    "\n",
    "    # Calculate the gains and losses\n",
    "    up = delta.where(delta > 0, 0)\n",
    "    down = -delta.where(delta < 0, 0)\n",
    "\n",
    "    # Calculate the rolling average of the gains and losses\n",
    "    #window_size = 14 #als default\n",
    "    avg_gain = up.rolling(intervall).mean()\n",
    "    avg_loss = down.rolling(intervall).mean()\n",
    "\n",
    "    # Calculate the relative strength\n",
    "    rs = avg_gain / avg_loss\n",
    "\n",
    "    # Calculate the RSI\n",
    "    data[spalten_name] = 100 - (100 / (1 + rs))\n",
    "    \n",
    "def EMA_berechnen(data: pd.DataFrame, intervall: int):\n",
    "    spalten_name = \"EMA_\" + str(intervall)\n",
    "    data[spalten_name] = data[\"Close\"].ewm(span=intervall, adjust=False).mean()\n",
    "    spalten_name_sig = \"EMA_\"+str(intervall)+\"_Sig\"\n",
    "    data[spalten_name_sig] = (data[\"Close\"]>data[spalten_name]).astype(int)\n",
    "    count_consecutive_ones(data, spalten_name_sig)\n",
    "\n",
    "def HMA_berechnen(data: pd.DataFrame, intervall: int):\n",
    "    spalten_name = \"HMA_\" + str(intervall)\n",
    "    half_length = int(intervall / 2)\n",
    "    sqrt_length = int(np.sqrt(intervall))\n",
    "\n",
    "    wma_half = data[\"Close\"].rolling(window=half_length).mean()\n",
    "    wma_full = data[\"Close\"].rolling(window=intervall).mean()\n",
    "\n",
    "    raw_hma = 2 * wma_half - wma_full\n",
    "    data[spalten_name] = raw_hma.rolling(window=sqrt_length).mean()\n",
    "    \n",
    "    spalten_name_sig = \"HMA_\"+str(intervall)+\"_Sig\"\n",
    "    data[spalten_name_sig] = (data[\"Close\"]>data[spalten_name]).astype(int)\n",
    "    count_consecutive_ones(data, spalten_name_sig)\n",
    "\n",
    "def MACD_berechnen(data: pd.DataFrame, fast_period: int = 12, slow_period: int = 26, signal_period: int = 9):\n",
    "    data[\"MACD\"] = data[\"Close\"].ewm(span=fast_period, adjust=False).mean() - data[\"Close\"].ewm(span=slow_period, adjust=False).mean()\n",
    "    data[\"MACD_Signal\"] = data[\"MACD\"].ewm(span=signal_period, adjust=False).mean()\n",
    "\n",
    "def Momentum_berechnen(data: pd.DataFrame, intervall: int):\n",
    "    spalten_name = \"Momentum_\" + str(intervall)\n",
    "    data[spalten_name] = data[\"Close\"].diff(intervall)\n",
    "\n",
    "def Stochastic_RSI_berechnen(data: pd.DataFrame, intervall: int):\n",
    "    spalten_name = \"StochRSI_\" + str(intervall)\n",
    "\n",
    "    delta = data[\"Close\"].diff()\n",
    "    gain = (delta.where(delta > 0, 0)).rolling(window=intervall).mean()\n",
    "    loss = (-delta.where(delta < 0, 0)).rolling(window=intervall).mean()\n",
    "\n",
    "    RS = gain / loss\n",
    "    RSI = 100 - (100 / (1 + RS))\n",
    "\n",
    "    min_RSI = RSI.rolling(window=intervall).min()\n",
    "    max_RSI = RSI.rolling(window=intervall).max()\n",
    "\n",
    "    data[spalten_name] = (RSI - min_RSI) / (max_RSI - min_RSI)"
   ]
  },
  {
   "cell_type": "code",
   "execution_count": null,
   "id": "90b7efc8",
   "metadata": {
    "scrolled": true
   },
   "outputs": [],
   "source": [
    "indicators = []\n",
    "dt_indicators = []\n",
    "OBV_berechnen(df_hour)\n",
    "MACD_berechnen(df_hour)\n",
    "dt_indicators.extend([f'OBV', f'MACD'])\n",
    "for i in [24, 24*7, 24*100]:#[5, 10, 20, 50, 100, 500, 1000]:\n",
    "    SMA_berechnen(df_hour, i)\n",
    "    RSI_berechnen(df_hour, i)\n",
    "    EMA_berechnen(df_hour, i)\n",
    "    HMA_berechnen(df_hour, i)\n",
    "    Momentum_berechnen(df_hour, i)\n",
    "    Stochastic_RSI_berechnen(df_hour, i)\n",
    "    indicators.extend([f\"RSI_{i}\", f\"EMA_{i}\", f\"HMA_{i}\", f\"Momentum_{i}\", f\"StochRSI_{i}\"])\n",
    "    dt_indicators.extend([f\"RSI_{i}\", f\"SMA_{i}_Sig\", f\"EMA_{i}_Sig\", f\"HMA_{i}_Sig\", f\"Momentum_{i}\", f\"StochRSI_{i}\"])\n",
    "    "
   ]
  },
  {
   "cell_type": "code",
   "execution_count": null,
   "id": "37224e48",
   "metadata": {},
   "outputs": [],
   "source": [
    "df_hour[\"Hour\"] = df_hour[\"Open time\"].dt.hour\n",
    "tmp = df_hour.groupby(\"Hour\")[\"pct\"].mean()\n",
    "plt.bar(x=tmp.index, height=tmp)"
   ]
  },
  {
   "cell_type": "code",
   "execution_count": null,
   "id": "778342e6",
   "metadata": {},
   "outputs": [],
   "source": [
    "# Calendar Effects:\n",
    "df_hour[\"Is_AfterHour\"] = df_hour[\"Open time\"].dt.hour >= 22\n",
    "df_hour[\"Is_Monday\"] = df_hour[\"Open time\"].dt.day_of_week == 0\n",
    "dt_indicators.extend([f'Is_AfterHour', f'Is_Monday'])"
   ]
  },
  {
   "cell_type": "code",
   "execution_count": null,
   "id": "58196213",
   "metadata": {},
   "outputs": [],
   "source": [
    "#berechnet performance für das gewollte Zeitfenster\n",
    "def create_labels(data: pd.DataFrame, window: int):\n",
    "    data[\"future_return\"] = data[\"Close\"].shift(-window) / data[\"Close\"] - 1\n",
    "    data[\"label\"] = (data[\"future_return\"] > transaction_costs*2).astype(int)\n",
    "    data.dropna(inplace=True)"
   ]
  },
  {
   "cell_type": "code",
   "execution_count": null,
   "id": "e0768d97",
   "metadata": {},
   "outputs": [],
   "source": [
    "from sklearn import tree\n",
    "def train_model(data: pd.DataFrame, features: list, target: str, param_grid, estimator):\n",
    "    # Indizes zurücksetzen, um Probleme mit der Indizierung zu vermeiden\n",
    "    data = data.reset_index(drop=True)\n",
    "    \n",
    "    # Aufteilen der Daten in Trainings- und Testdaten\n",
    "    train_size = int(len(data) * 0.8)\n",
    "    train_data = data.iloc[:train_size]\n",
    "    test_data = data.iloc[train_size:]\n",
    "    X_train = train_data[features]\n",
    "    X_test = test_data[features]\n",
    "    y_train = train_data[target]\n",
    "    \n",
    "    # Definiere den Precision-Scorer\n",
    "    precision_scorer = make_scorer(precision_score, pos_label=1)\n",
    "    \n",
    "    # Initialisiere den GridSearchCV\n",
    "    grid_search = GridSearchCV(estimator=estimator,\n",
    "                               param_grid=param_grid,\n",
    "                                cv=4,  # Anzahl der Cross-Validation-Folds\n",
    "                                scoring=precision_scorer,  # Bewertungskriterium\n",
    "                                n_jobs=-1,  # Nutze alle verfügbaren CPU-Kerne\n",
    "                                verbose=2)  # Ausgabe von Fortschrittsinformationen\n",
    "\n",
    "     # Führe GridSearch aus\n",
    "    grid_search.fit(X_train, y_train)\n",
    "    \n",
    "    # Ausgabe der besten Parameter\n",
    "    print(\"Beste Parameter:\", grid_search.best_params_)\n",
    "    \n",
    "    # Modell mit den besten Parametern\n",
    "    best_clf = grid_search.best_estimator_\n",
    "    return best_clf, X_test\n",
    "    \n",
    "def make_signals(pred: pd.Series, holding_period: int):\n",
    "    np_pred = pred\n",
    "    for i in reversed(range(len(np_pred))):\n",
    "        if np_pred[i] == 1:\n",
    "            np_pred[i:i+holding_period] = 1\n",
    "    np_pred = np_pred\n",
    "    return np_pred \n",
    "    \n",
    "def evaluate_model(X_test, best_clf, data, signal_threshold, holding_period, plot=True):\n",
    "    transaction_costs = 0.0005\n",
    "    # Vorhersagen auf Testdaten\n",
    "    #y_pred = best_clf.predict(X_test)\n",
    "    \n",
    "    #best_clf = DecisionTreeClassifier(max_depth=2, random_state=42)\n",
    "    #best_clf.fit(X_train, y_train)\n",
    "    \n",
    "    # TODO print out sharpe ratio in training data set\n",
    "    # y_pred_proba = best_clf.predict_proba(X_train)\n",
    "    # y_pred = (y_pred_proba[:, 1] > signal_threshold).astype(int)\n",
    "    # y_pred = make_signals(y_pred, holding_period)\n",
    "    # print(f\"Sharpe Strategy (Train): {sharpe}\")\n",
    "\n",
    "    # Get the predicted probabilities\n",
    "    y_pred_proba = best_clf.predict_proba(X_test)\n",
    "    y_pred = (y_pred_proba[:, 1] > signal_threshold).astype(int)\n",
    "    y_pred = make_signals(y_pred, holding_period)\n",
    "    \n",
    "    # Berechne die Sharpe Ratio\n",
    "    test_returns = data.loc[X_test.index, \"pct\"]\n",
    "    print(f'Sharpe BTC {sharpe_ratio(test_returns)}')\n",
    "\n",
    "    strat_returns = test_returns.copy()\n",
    "    strat_returns[y_pred == 0] = 0\n",
    "\n",
    "    # Calculate transaction costs: a cost occurs whenever there is a change in the position (buy/sell)\n",
    "    positions = np.diff(np.concatenate([[0], y_pred]))  # Calculate position changes\n",
    "    transaction_costs = np.abs(positions) * transaction_costs  # Apply transaction costs\n",
    "\n",
    "    sharpe = sharpe_ratio(strat_returns)\n",
    "    print(f\"Sharpe Ratio without costs: {sharpe}\")\n",
    "    strat_returns -= transaction_costs  # Deduct transaction costs from strategy returns\n",
    "\n",
    "    print(f\"number of transactions {np.sum(np.abs(positions))}\")\n",
    "\n",
    "    sharpe = sharpe_ratio(strat_returns)\n",
    "    print(f\"Sharpe Ratio with costs: {sharpe}\")\n",
    "    \n",
    "    # Performance DataFrame erstellen\n",
    "    if plot:\n",
    "        # Performance DataFrame erstellen\n",
    "        PF = pd.DataFrame(data[\"pct\"].iloc[X_test.index])\n",
    "        PF[\"pred\"] = y_pred\n",
    "        PF[\"strategy_returns\"] = PF[\"pred\"] * PF[\"pct\"]\n",
    "        PF[\"cumulative_strategy_returns\"] = (PF[\"strategy_returns\"] + 1).cumprod()\n",
    "\n",
    "        PF[\"benchmark_returns\"] = PF[\"pct\"]\n",
    "        PF[\"cumulative_benchmark_returns\"] = (PF[\"benchmark_returns\"] + 1).cumprod()\n",
    "\n",
    "        # Calculate transaction indices\n",
    "        transaction_indices = np.where(np.abs(positions) > 0)[0]\n",
    "\n",
    "        # Adjust transaction_indices to match PF index\n",
    "        transaction_indices = transaction_indices[transaction_indices < len(PF)]\n",
    "\n",
    "        # Plot results\n",
    "        plt.figure(figsize=(14, 7))\n",
    "        plt.plot(PF[\"cumulative_strategy_returns\"], label=\"Strategy Returns\")\n",
    "        plt.plot(PF[\"cumulative_benchmark_returns\"], label=\"Benchmark Returns\")\n",
    "\n",
    "        # Add dots where transactions occur\n",
    "        plt.scatter(PF.index[transaction_indices], PF[\"cumulative_strategy_returns\"].iloc[transaction_indices],\n",
    "                    color='red', marker='o', label='Transactions')\n",
    "\n",
    "        plt.title(\"Cumulative Returns with Transactions\")\n",
    "        plt.xlabel(\"Time\")\n",
    "        plt.ylabel(\"Cumulative Returns\")\n",
    "        plt.legend()\n",
    "        plt.show()\n",
    "    \n",
    "    return sharpe"
   ]
  },
  {
   "cell_type": "code",
   "execution_count": null,
   "id": "2ae3904e",
   "metadata": {},
   "outputs": [],
   "source": [
    "def find_best_indicators(data: pd.DataFrame, indicators: list, target: str, holding_period, signal_threshold):\n",
    "    best_sharpe = -np.inf\n",
    "    best_combination = None\n",
    "    best_model = None\n",
    "\n",
    "    # Definiere den Parameterbereich für GridSearch\n",
    "    param_grid = {\n",
    "        #'criterion': ['gini', 'entropy'],\n",
    "        'max_depth': [5, 10, 20],\n",
    "        #'min_samples_split': [2, 5, 10],\n",
    "        #'min_samples_leaf': [5, 10, 20, 30],\n",
    "        #'max_features': [None, 'sqrt', 'log2']\n",
    "    }\n",
    "\n",
    "    for r in range(1, len(indicators) + 1):\n",
    "        for combo in combinations(indicators, r):\n",
    "            if len(combo)<4:\n",
    "                continue\n",
    "            print(combo)\n",
    "            features = list(combo)\n",
    "            clf, X_test = train_model(data, features, target, param_grid=param_grid, estimator=DecisionTreeClassifier(random_state=42))\n",
    "            sharpe = evaluate_model(X_test, clf, signal_threshold=signal_threshold, holding_period=holding_period, data=data)\n",
    "            if sharpe > best_sharpe:\n",
    "                best_sharpe = sharpe\n",
    "                best_combination = combo\n",
    "                best_model = clf\n",
    "\n",
    "    print(f\"Best Sharpe Ratio: {best_sharpe}\")\n",
    "    print(f\"Best Indicator Combination: {best_combination}\")\n",
    "\n",
    "    return best_model, best_combination, best_sharpe"
   ]
  },
  {
   "cell_type": "code",
   "execution_count": null,
   "id": "3b245104",
   "metadata": {},
   "outputs": [],
   "source": [
    "HOLDING_WINDOW = 1"
   ]
  },
  {
   "cell_type": "code",
   "execution_count": null,
   "id": "01d957f3",
   "metadata": {
    "scrolled": true
   },
   "outputs": [],
   "source": [
    "# Labels erstellen\n",
    "create_labels(df_hour, window=HOLDING_WINDOW)"
   ]
  },
  {
   "cell_type": "code",
   "execution_count": null,
   "id": "b74b1bb1",
   "metadata": {},
   "outputs": [],
   "source": [
    "#dt_indicators.extend([f'EMA_{5}', f'EMA_{50}', f'EMA_{500}'])\n",
    "# Liste der Indikatoren\n",
    "features = dt_indicators#[\"SMA_50_Sig\", \"SMA_500_Sig\", \"HMA_50_Sig\", \"EMA_50_Sig\", \"EMA_500_Sig\", \"EMA_5_Sig\"]#[\"OBV\", \"RSI_5\", \"RSI_10\"]#, \"RSI_50\", \"RSI_50\", \"MACD\", \"MACD_Signal\", \"Momentum_10\", \"StochRSI_10\", \"StochRSI_20\", \"StochRSI_50\"]"
   ]
  },
  {
   "cell_type": "code",
   "execution_count": null,
   "id": "44849cd5",
   "metadata": {},
   "outputs": [],
   "source": [
    "# Beste Indikatoren finden\n",
    "best_model, best_combination, best_sharpe = find_best_indicators(df_hour, features, holding_period=HOLDING_WINDOW, target=\"label\", signal_threshold=0.55)"
   ]
  },
  {
   "cell_type": "markdown",
   "id": "93ed0227",
   "metadata": {},
   "source": [
    "man könnte probieren, zu zählen wie häufig die Buy-Signale bei den Averages hintereinander aufkommen und das dann in den DT übergeben. "
   ]
  },
  {
   "cell_type": "markdown",
   "id": "054635eb",
   "metadata": {},
   "source": [
    "# Single Model Analysis"
   ]
  },
  {
   "cell_type": "code",
   "execution_count": null,
   "id": "33d27d5c",
   "metadata": {},
   "outputs": [],
   "source": [
    "create_labels(df_hour, window=HOLDING_WINDOW)"
   ]
  },
  {
   "cell_type": "code",
   "execution_count": null,
   "id": "cc19814c",
   "metadata": {},
   "outputs": [],
   "source": [
    "# Definiere den Parameterbereich für GridSearch\n",
    "param_grid = {\n",
    "    #'criterion': ['gini', 'entropy'],\n",
    "     'max_depth': [5],\n",
    "    # 'min_samples_split': [2, 5, 10],\n",
    "    # 'min_samples_leaf': [1000, 10000],\n",
    "    #'max_features': [None, 'sqrt', 'log2']\n",
    "}\n",
    "clf, X_test = train_model(data=df_hour, features=features, target=\"label\", param_grid=param_grid, estimator=DecisionTreeClassifier(random_state=42))"
   ]
  },
  {
   "cell_type": "code",
   "execution_count": null,
   "id": "0000ef02",
   "metadata": {},
   "outputs": [],
   "source": [
    "th = 0.5\n",
    "sharpe = evaluate_model(X_test, clf, data=df_hour, signal_threshold=th, holding_period=HOLDING_WINDOW, plot=False)"
   ]
  },
  {
   "cell_type": "code",
   "execution_count": null,
   "id": "44321689",
   "metadata": {},
   "outputs": [],
   "source": [
    "from functools import partial\n",
    "\n",
    "plot_func = partial(evaluate_model, X_test=X_test, best_clf=clf, data=df_hour, holding_period=HOLDING_WINDOW, plot=False)\n",
    "xs = np.arange(0.5, 1, 0.05)\n",
    "ys = np.ndarray(shape=len(xs))\n",
    "for i in range(len(xs)):\n",
    "     ys[i] = plot_func(signal_threshold=xs[i])"
   ]
  },
  {
   "cell_type": "code",
   "execution_count": null,
   "id": "77812fe3",
   "metadata": {},
   "outputs": [],
   "source": [
    "plt.plot(xs, ys)\n",
    "plt.xlabel(\"threshold\")\n",
    "plt.ylabel(\"sharpe\")"
   ]
  },
  {
   "cell_type": "code",
   "execution_count": null,
   "id": "b8dde7b9",
   "metadata": {},
   "outputs": [],
   "source": [
    "evaluate_model(signal_threshold=0.6,\n",
    "              X_test=X_test, \n",
    "              best_clf=clf, \n",
    "              data=df_hour, \n",
    "              holding_period=HOLDING_WINDOW,\n",
    "              plot=True)"
   ]
  },
  {
   "cell_type": "code",
   "execution_count": null,
   "id": "4209ff69",
   "metadata": {},
   "outputs": [],
   "source": [
    "_ = tree.plot_tree(clf)"
   ]
  },
  {
   "cell_type": "code",
   "execution_count": null,
   "id": "954b1a6a",
   "metadata": {},
   "outputs": [],
   "source": []
  },
  {
   "cell_type": "code",
   "execution_count": null,
   "id": "8c839e36",
   "metadata": {},
   "outputs": [],
   "source": [
    "# Iterate over 3-month periods\n",
    "start_date = df_hour.index.min()\n",
    "end_date = df_hour.index.max()\n",
    "\n",
    "# Create plots for each 3-month period\n",
    "while start_date < end_date:\n",
    "    # Define the end date of the current 3-month period\n",
    "    current_end_date = start_date + pd.DateOffset(months=3)\n",
    "    \n",
    "    # Slice the data for the current 3-month period\n",
    "    df_slice = df_hour[(df_hour.index >= start_date) & (df_hour.index < current_end_date)]\n",
    "    a = 24*365\n",
    "    # Plot\n",
    "    plt.figure(figsize=(16, 6))\n",
    "    df_slice[[\"Close\", \"SMA_500\", \"SMA_100\", \"EMA_100\", \"EMA_500\", \"SMA_50\", \"EMA_50\", f'SMA_{a}']].plot(ax=plt.gca())\n",
    "    plt.title(f'Close Price and SMAs from {start_date.date()} to {current_end_date.date()}')\n",
    "    plt.xlabel('Date')\n",
    "    plt.ylabel('Price')\n",
    "    plt.grid(True)\n",
    "    plt.show()\n",
    "    \n",
    "    # Move to the next 3-month period\n",
    "    start_date = current_end_date"
   ]
  }
 ],
 "metadata": {
  "kernelspec": {
   "display_name": "myenv",
   "language": "python",
   "name": "myenv"
  },
  "language_info": {
   "codemirror_mode": {
    "name": "ipython",
    "version": 3
   },
   "file_extension": ".py",
   "mimetype": "text/x-python",
   "name": "python",
   "nbconvert_exporter": "python",
   "pygments_lexer": "ipython3",
   "version": "3.12.3"
  }
 },
 "nbformat": 4,
 "nbformat_minor": 5
}
