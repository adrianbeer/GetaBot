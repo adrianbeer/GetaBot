{
  "cells": [
    {
      "cell_type": "code",
      "execution_count": 1,
      "metadata": {
        "id": "GlllpbsesOq0"
      },
      "outputs": [],
      "source": [
        "import pandas as pd\n",
        "import numpy as np\n",
        "\n",
        "#daten einlesen\n",
        "daten = pd.read_csv('daten_07_05_2020_bis_31_01_2023.csv',index_col=\"date\")\n",
        "daten = daten.sort_index(axis=0)"
      ]
    },
    {
      "attachments": {},
      "cell_type": "markdown",
      "metadata": {
        "id": "DyBiaUU8fumx"
      },
      "source": [
        "## Woche 2 - Funktionen und Risiko Kennzahlen\n",
        "\n",
        "In der ersten Woche haben wir den SMA kennengelernt; leider mussten wir die Länge des betrachteten Intervall händisch anpassen.\n",
        "\n",
        "Mit hilfe von Python Funktionen habt ihr die Möglichkeit eine anpassbare Schablone zu erstellen, welche euch die Arbeit deutlich erleichtert.\n",
        "\n",
        "Von der Syntax her sind alle Funktionen gleich aufgebaut:\n",
        "\n",
        "    def myFunction(INPUT):\n",
        "      #beschreibung\n",
        "      \n",
        "      ... Berechnungen ...\n",
        "      output = xyz\n",
        "\n",
        "      return output"
      ]
    },
    {
      "cell_type": "code",
      "execution_count": null,
      "metadata": {
        "colab": {
          "base_uri": "https://localhost:8080/"
        },
        "id": "b7qzWvvB6DBw",
        "outputId": "315eb716-d283-45c4-cc68-8928cb531560"
      },
      "outputs": [],
      "source": [
        "def t1():\n",
        "  #druckt beim Aufruf \"HALLO!!\" aus\n",
        "  print(\"HALLO!!\")\n",
        "\n",
        "def t2(name:str):\n",
        "  #name muss vom Format String sein\n",
        "  #druckt beim Aufruf \"HALLO,\" name aus\n",
        "  print(\"HALLO,\",name)\n",
        "\n",
        "t1()\n",
        "\n",
        "t2('Luca')"
      ]
    },
    {
      "cell_type": "code",
      "execution_count": 3,
      "metadata": {
        "id": "Odbaqy0L7zIQ"
      },
      "outputs": [],
      "source": [
        "df = daten[[\"4a. close (EUR)\"]].copy()"
      ]
    },
    {
      "cell_type": "code",
      "execution_count": 4,
      "metadata": {
        "id": "8M0mScLg6doa"
      },
      "outputs": [],
      "source": [
        "def sma(data: pd.DataFrame,intervall:int):\n",
        "  #diese Funktion berechnet den SMA_intervall von dem Input data\n",
        "  #der SMA wird immer von dem Column \"4a. close (EUR)\" berechnet\n",
        "  #ACHTUNG: Stelle sicher, dass data immer diese Spalte besitzt\n",
        "  spalten_name = \"SMA_\"+str(intervall)\n",
        "  data[spalten_name] = data[\"4a. close (EUR)\"].rolling(intervall).mean()\n"
      ]
    },
    {
      "cell_type": "code",
      "execution_count": null,
      "metadata": {
        "colab": {
          "base_uri": "https://localhost:8080/",
          "height": 710
        },
        "id": "zih4dk7O8S3c",
        "outputId": "dafbb1a3-dc7a-44b6-f87c-7046880fb8f6"
      },
      "outputs": [],
      "source": [
        "#Erstelle SMA's der Länge 4,8,12,16,20\n",
        "for i in [4,8,12,16,20]:\n",
        "  sma(data=df, intervall = i)\n",
        "\n",
        "df.head(20)"
      ]
    },
    {
      "attachments": {},
      "cell_type": "markdown",
      "metadata": {},
      "source": [
        "### Relativer Stärke Index\n",
        "\n",
        "Der RSI schaut sich die letzten n Handelstage an und bildet das aritmetische Mittel von den positiven sowie negativen Renditen in dem Handelszeitraum. Der Quotient aus diesen nennt man $rs$.\n",
        "\n",
        "#### $RSI(n) = 100 - (\\frac{100}{1+rs})$\n",
        "\n",
        "\n",
        "#### mit $rs = \\frac{\\frac{1}{n} ∑_{i=1}^n pd_i * 1_{pd_i>0}}{\\frac{-1}{n} ∑_{i=1}^n pd_i * 1_{pd_i<0}}$  ,wobei $pd_i = p_i - p_{i-1}$\n",
        "\n",
        "Beispiel:\n",
        "| Tag | Preis | Preisdifferenz | \n",
        "| --- | --- | --- | \n",
        "| 0 | 100 | - | \n",
        "| 1 | 110 | +10 | \n",
        "| 2 | 105 | -5 | \n",
        "| 3 | 95 | -10 | \n",
        "| 4 | 115 | +20 | \n",
        "| 5 | 112 | -3 | \n",
        "\n",
        "->  $\\frac{1}{n} ∑_{i=1}^n p_i * 1_{p_i>0} = 6$      (arithmetisches Mittel der positiven Preisdifferenzen)\n",
        "\n",
        "->  $\\frac{-1}{n} ∑_{i=1}^n p_i * 1_{p_i<0} = 3.6$      (arithmetisches Mittel der negativen Preisdifferenzen)\n",
        "\n",
        "=>  $rs = \\frac{15}{6} = 1.67$\n",
        "\n",
        "Und somit ist der $RSI(5) = 100 - (\\frac{100}{1+1.67}) = 62.5$"
      ]
    },
    {
      "cell_type": "code",
      "execution_count": 6,
      "metadata": {
        "id": "PqOjFg6zJIxw"
      },
      "outputs": [],
      "source": [
        "#Definition des Relative Strength Index (RSI)\n",
        "def RSI_berechnen(data:pd.DataFrame,intervall:int):\n",
        "\n",
        "  spalten_name = \"RSI_\"+str(intervall)\n",
        "  data[spalten_name] = data[\"4a. close (EUR)\"].rolling(intervall).mean()\n",
        "\n",
        "  # Bestimme die Preisänderung zum jeweiligen Zeitpunkt t-1\n",
        "  delta = data[\"4a. close (EUR)\"].diff()\n",
        "\n",
        "  # Get rid of the first row, which has NaN values\n",
        "  delta = delta[1:]\n",
        "  #print(delta)\n",
        "\n",
        "  # Calculate the gains and losses\n",
        "  up = delta.where(delta > 0, 0)\n",
        "  down = -delta.where(delta < 0, 0)\n",
        "\n",
        "  # Calculate the rolling average of the gains and losses\n",
        "  #window_size = 14 #als default\n",
        "  avg_gain = up.rolling(intervall).mean()\n",
        "  avg_loss = down.rolling(intervall).mean()\n",
        "\n",
        "  # Calculate the relative strength\n",
        "  rs = avg_gain / avg_loss\n",
        "\n",
        "  # Calculate the RSI\n",
        "  data[spalten_name] = 100 - (100 / (1 + rs))\n",
        "\n",
        "  return up,down"
      ]
    },
    {
      "cell_type": "code",
      "execution_count": 7,
      "metadata": {
        "id": "baTqwUfSKF3D"
      },
      "outputs": [],
      "source": [
        "up,down = RSI_berechnen(df,20)"
      ]
    },
    {
      "cell_type": "code",
      "execution_count": null,
      "metadata": {
        "colab": {
          "base_uri": "https://localhost:8080/",
          "height": 160
        },
        "id": "sVVEbMwW8Ek4",
        "outputId": "d45cad40-0d80-4585-d153-a29a1b1700cf"
      },
      "outputs": [],
      "source": [
        "df.tail(2)"
      ]
    },
    {
      "cell_type": "code",
      "execution_count": 9,
      "metadata": {},
      "outputs": [],
      "source": [
        "# bestimme Portfolios und speichere diese in einem neuen DataFrame\n",
        "def Portfolios(data:pd.DataFrame):\n",
        "    #legt ein neues Portfolio an\n",
        "    #nutzt SMA_n als einzigen Signalgeber\n",
        "    #gibt ein DataFrame mit den täglichen PF Returns zurück\n",
        "    \n",
        "    df_output = data[[\"4a. close (EUR)\"]].copy()\n",
        "    df_output[\"pct\"] = df_output[\"4a. close (EUR)\"].pct_change().shift(-1)\n",
        "    #df_output = df_output.dropna()\n",
        "\n",
        "    #Signale bestimmen\n",
        "    for i in df.filter(regex=\"SMA_\").columns:\n",
        "        print(i)\n",
        "        #df_output[\"Sig_\"+i] = df_output[\"4a. close (EUR)\"] > data[i]    #ACHTUNG: Abfrage von zwei DF\n",
        "        #df_output[\"PF_Ret_\"+i] = df_output[\"Sig_\"+i] * df_output[\"pct\"]\n",
        "\n",
        "        #in einer Zeile\n",
        "        df_output[\"PF_Ret_\"+i] = (df_output[\"4a. close (EUR)\"] > data[i]) * df_output[\"pct\"]\n",
        "\n",
        "    \n",
        "    df_output = df_output.dropna()      #entfernen der letzen Zeile, da diese noch keinen Return hat (quasi t+1)    \n",
        "    return df_output"
      ]
    },
    {
      "cell_type": "code",
      "execution_count": null,
      "metadata": {},
      "outputs": [],
      "source": [
        "myPFs = Portfolios(df)"
      ]
    },
    {
      "cell_type": "code",
      "execution_count": 15,
      "metadata": {
        "id": "0cGpTIC-QrF7"
      },
      "outputs": [],
      "source": [
        "#Risiko Kennzahlen\n",
        "def risiko(data:pd.DataFrame):\n",
        "  #das DataFrame sollte die Spalte \"PF_Ret*\" besitzen\n",
        "  #in der PF_Ret* Spalte stehen die jeweilen Tagesrenditen der \n",
        "  nk = 4\n",
        "\n",
        "  for k in data.filter(regex=\"PF_Ret_\").columns:\n",
        "    rf = 0.0\n",
        "    pf_ret = np.round((data[k] +1).cumprod()[-1],nk)\n",
        "    #pf_ret_ann = \n",
        "    pf_vol = np.round(np.sqrt(365)*data[k].std(),nk)\n",
        "    pf_sha = np.round((pf_ret-rf)/pf_vol,nk)           #ACHTUNG: Returns müssen annulized sein\n",
        "    pf_mdd = np.round((((data[k]+1).cumprod()/((data[k]+1).cumprod()).cummax() - 1.0).cummin()).min(),nk)\n",
        "    pf_inv = (data[k]!=0.0).sum()                      #Anzahl investierte Tage\n",
        "    pf_sgw = ((myPFs[k]!=0.0).diff().ne(0)).sum() -1   #Anzahl Signalwechsel     #-1, um den ersten Wechsel von NaN abzuziehen\n",
        "\n",
        "    t_0 = data.index[0]\n",
        "    t_N = data.index[-1]\n",
        "\n",
        "    print(k,\"\\t\", pf_ret, pf_vol, pf_sha, \"maxDD = \", pf_mdd, pf_inv, pf_sgw, t_0, t_N)\n",
        "  #Lege DataFrame an, mit:\n",
        "  #     : Vola  : Return  : Sharpe : MaxDD : Inv. Tage : Anz. Signalwe :t_0         : t_N \n",
        "  # PF_1: 30%   : 27.54%  : 0.92   : -32%   : 300       : 99            : 01-05-2023 :  01-31-2023\n",
        "  #       ...     ...     ...     ...     ...     ...     ...\n",
        "  # PF_K: 30%   : 27.54%  : 0.92   : -32%   : 500       : 73            : 01-05-2023 :  01-31-2023"
      ]
    },
    {
      "cell_type": "code",
      "execution_count": null,
      "metadata": {},
      "outputs": [],
      "source": [
        "risiko(myPFs)"
      ]
    },
    {
      "cell_type": "code",
      "execution_count": 13,
      "metadata": {},
      "outputs": [],
      "source": [
        "#TODO I.\n",
        "# 1. Lege DataFrame an und sichere die Daten in diesem die Daten von der Risiko Funktion\n",
        "#    Skizze zu der Form des DataFrame:\n",
        "  #     : Vola  : Return  : Sharpe : MaxDD : Inv. Tage : Anz. Signalwe :t_0         : t_N \n",
        "  # PF_1: 30%   : 27.54%  : 0.92   : 32%   : 300       : 99            : 01-05-2023 :  01-31-2023\n",
        "  #       ...     ...     ...     ...     ...     ...     ...\n",
        "  # PF_K: 30%   : 27.54%  : 0.92   : 32%   : 500       : 73            : 01-05-2023 :  01-31-2023\n",
        "\n",
        "my_risk = pd.DataFrame(columns=[\"Return_ges\",\"Vola_ann\",\"SR\",\"maxDD\",\"PF_inv\",\"PF_SigWechsel\",\"t_0\",\"t_N\"])"
      ]
    },
    {
      "cell_type": "code",
      "execution_count": 14,
      "metadata": {},
      "outputs": [],
      "source": [
        "#TODO II.\n",
        "# 1. Verallgemeiner die Portfolio Funktion, sodass nicht nur SMA Signale\n",
        "#    verwertet werden können.\n",
        "# 2. Lege ein DataFrame mit den RSI Längen 8, 12, 16, 20 und filtere die\n",
        "#    Performance nach dem größten Sharpe Ratio"
      ]
    },
    {
      "attachments": {},
      "cell_type": "markdown",
      "metadata": {
        "id": "URGYCsBv16S4"
      },
      "source": [
        "### Ausblick für die dritte Woche\n",
        "- Machine Learning Einführung (Regression & Decission Trees)\n",
        "- Training- & Testdatensets\n",
        "- RSI Vertiefung"
      ]
    },
    {
      "cell_type": "code",
      "execution_count": null,
      "metadata": {
        "id": "Y2RfPS8W2yKD"
      },
      "outputs": [],
      "source": []
    },
    {
      "attachments": {},
      "cell_type": "markdown",
      "metadata": {
        "id": "t7t0eCZo2y6r"
      },
      "source": [
        "### Ausblick vierte Woche\n",
        "- OBV Indikator\n",
        "- Bot fertigstellen\n",
        "\n",
        "- eventuelle: Backtesting Paper schreiben"
      ]
    },
    {
      "cell_type": "code",
      "execution_count": null,
      "metadata": {
        "id": "TNisf5me2_e6"
      },
      "outputs": [],
      "source": []
    }
  ],
  "metadata": {
    "colab": {
      "provenance": []
    },
    "kernelspec": {
      "display_name": "Python 3",
      "name": "python3"
    },
    "language_info": {
      "codemirror_mode": {
        "name": "ipython",
        "version": 3
      },
      "file_extension": ".py",
      "mimetype": "text/x-python",
      "name": "python",
      "nbconvert_exporter": "python",
      "pygments_lexer": "ipython3",
      "version": "3.9.6"
    }
  },
  "nbformat": 4,
  "nbformat_minor": 0
}
