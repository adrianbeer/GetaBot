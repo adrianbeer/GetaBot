{
  "cells": [
    {
      "cell_type": "code",
      "execution_count": 1,
      "metadata": {
        "id": "GlllpbsesOq0"
      },
      "outputs": [],
      "source": [
        "import pandas as pd"
      ]
    },
    {
      "attachments": {},
      "cell_type": "markdown",
      "metadata": {
        "id": "HohRGXUFg1TV"
      },
      "source": [
        "# Woche 1 - einfache Backtests\n",
        "\n",
        "In dieser Session werden wir den Trendfolgeindikator SMA (Simple Moving Average) kennen lernen und diesen nutzen, um einen ersten Backtest zu einer Handelsstrategie zu erstellen.\n",
        "\n",
        "Wie berechnet man den SMA?\n",
        "\n",
        "Der Simple Moving Average bezieht sich auf die letzen $n$ Handelsintervalle und beschreibt deren arithmetisches Mittel. \n",
        "$SMA(n) =\\frac{1}{n} ∑_{i=1}^n p_i$\n",
        "\n",
        "Das ganze sieht dann wie folgt aus:\n"
      ]
    },
    {
      "cell_type": "code",
      "execution_count": 4,
      "metadata": {
        "id": "WOdRaIeijTja"
      },
      "outputs": [],
      "source": [
        "#daten einlesen\n",
        "daten = pd.read_csv('Material zu Woche 1/daten_07_05_2020_bis_31_01_2023.csv',index_col=\"date\")"
      ]
    },
    {
      "cell_type": "code",
      "execution_count": 5,
      "metadata": {
        "colab": {
          "base_uri": "https://localhost:8080/",
          "height": 301
        },
        "id": "tej84N78smNx",
        "outputId": "0b066f6c-efcd-4b29-b984-283eaa69e2ea"
      },
      "outputs": [
        {
          "data": {
            "text/html": [
              "<div>\n",
              "<style scoped>\n",
              "    .dataframe tbody tr th:only-of-type {\n",
              "        vertical-align: middle;\n",
              "    }\n",
              "\n",
              "    .dataframe tbody tr th {\n",
              "        vertical-align: top;\n",
              "    }\n",
              "\n",
              "    .dataframe thead th {\n",
              "        text-align: right;\n",
              "    }\n",
              "</style>\n",
              "<table border=\"1\" class=\"dataframe\">\n",
              "  <thead>\n",
              "    <tr style=\"text-align: right;\">\n",
              "      <th></th>\n",
              "      <th>1a. open (EUR)</th>\n",
              "      <th>1b. open (USD)</th>\n",
              "      <th>2a. high (EUR)</th>\n",
              "      <th>2b. high (USD)</th>\n",
              "      <th>3a. low (EUR)</th>\n",
              "      <th>3b. low (USD)</th>\n",
              "      <th>4a. close (EUR)</th>\n",
              "      <th>4b. close (USD)</th>\n",
              "      <th>5. volume</th>\n",
              "      <th>6. market cap (USD)</th>\n",
              "    </tr>\n",
              "    <tr>\n",
              "      <th>date</th>\n",
              "      <th></th>\n",
              "      <th></th>\n",
              "      <th></th>\n",
              "      <th></th>\n",
              "      <th></th>\n",
              "      <th></th>\n",
              "      <th></th>\n",
              "      <th></th>\n",
              "      <th></th>\n",
              "      <th></th>\n",
              "    </tr>\n",
              "  </thead>\n",
              "  <tbody>\n",
              "    <tr>\n",
              "      <th>2023-01-31</th>\n",
              "      <td>84.179104</td>\n",
              "      <td>91.36</td>\n",
              "      <td>88.454400</td>\n",
              "      <td>96.00</td>\n",
              "      <td>84.133034</td>\n",
              "      <td>91.31</td>\n",
              "      <td>87.763350</td>\n",
              "      <td>95.25</td>\n",
              "      <td>403366.869</td>\n",
              "      <td>403366.869</td>\n",
              "    </tr>\n",
              "    <tr>\n",
              "      <th>2023-01-30</th>\n",
              "      <td>87.404004</td>\n",
              "      <td>94.86</td>\n",
              "      <td>88.509684</td>\n",
              "      <td>96.06</td>\n",
              "      <td>81.359620</td>\n",
              "      <td>88.30</td>\n",
              "      <td>84.188318</td>\n",
              "      <td>91.37</td>\n",
              "      <td>987138.227</td>\n",
              "      <td>987138.227</td>\n",
              "    </tr>\n",
              "    <tr>\n",
              "      <th>2023-01-29</th>\n",
              "      <td>82.612724</td>\n",
              "      <td>89.66</td>\n",
              "      <td>90.085278</td>\n",
              "      <td>97.77</td>\n",
              "      <td>82.603510</td>\n",
              "      <td>89.65</td>\n",
              "      <td>87.385576</td>\n",
              "      <td>94.84</td>\n",
              "      <td>1268331.010</td>\n",
              "      <td>1268331.010</td>\n",
              "    </tr>\n",
              "  </tbody>\n",
              "</table>\n",
              "</div>"
            ],
            "text/plain": [
              "            1a. open (EUR)  1b. open (USD)  2a. high (EUR)  2b. high (USD)  \\\n",
              "date                                                                         \n",
              "2023-01-31       84.179104           91.36       88.454400           96.00   \n",
              "2023-01-30       87.404004           94.86       88.509684           96.06   \n",
              "2023-01-29       82.612724           89.66       90.085278           97.77   \n",
              "\n",
              "            3a. low (EUR)  3b. low (USD)  4a. close (EUR)  4b. close (USD)  \\\n",
              "date                                                                         \n",
              "2023-01-31      84.133034          91.31        87.763350            95.25   \n",
              "2023-01-30      81.359620          88.30        84.188318            91.37   \n",
              "2023-01-29      82.603510          89.65        87.385576            94.84   \n",
              "\n",
              "              5. volume  6. market cap (USD)  \n",
              "date                                          \n",
              "2023-01-31   403366.869           403366.869  \n",
              "2023-01-30   987138.227           987138.227  \n",
              "2023-01-29  1268331.010          1268331.010  "
            ]
          },
          "execution_count": 5,
          "metadata": {},
          "output_type": "execute_result"
        }
      ],
      "source": [
        "#daten Kopf ausgeben\n",
        "daten.head(3)"
      ]
    },
    {
      "cell_type": "code",
      "execution_count": null,
      "metadata": {
        "colab": {
          "base_uri": "https://localhost:8080/",
          "height": 301
        },
        "id": "EQk8cwhdtYwC",
        "outputId": "6fc74fd1-6b0f-4e58-dc93-fe4be4131784"
      },
      "outputs": [],
      "source": [
        "#daten ordnen, sodass weit entfernte Zeitpunkte im Head und nähere Zeitpunkte im Tail liegen\n",
        "daten = daten.sort_index(axis=0)\n",
        "daten.head(3)"
      ]
    },
    {
      "cell_type": "code",
      "execution_count": null,
      "metadata": {
        "colab": {
          "base_uri": "https://localhost:8080/",
          "height": 318
        },
        "id": "2Ujv3aJktCvW",
        "outputId": "cc85d495-cc9f-4300-d5a7-55943f2186d3"
      },
      "outputs": [],
      "source": [
        "#SMA berechnen\n",
        "daten[\"SMA_15\"] = daten[\"4a. close (EUR)\"].rolling(15).mean()\n",
        "daten[\"SMA_10\"] = daten[\"4a. close (EUR)\"].rolling(10).mean()     #40 & 15 in Kombination recht gut\n",
        "daten.tail(3)"
      ]
    },
    {
      "cell_type": "code",
      "execution_count": null,
      "metadata": {
        "colab": {
          "base_uri": "https://localhost:8080/",
          "height": 456
        },
        "id": "88UrxgbJt2Mf",
        "outputId": "2228d346-e872-4f12-b67b-54ec215f4c02"
      },
      "outputs": [],
      "source": [
        "daten[[\"4a. close (EUR)\",\"SMA_15\",\"SMA_10\"]].plot(figsize=(16,6))"
      ]
    },
    {
      "cell_type": "code",
      "execution_count": null,
      "metadata": {
        "colab": {
          "base_uri": "https://localhost:8080/",
          "height": 191
        },
        "id": "3ijJNQfeuZ6P",
        "outputId": "6bdd3197-f016-4403-a334-0f36209f6d2b"
      },
      "outputs": [],
      "source": [
        "#Strategie herleiten und Portfolios bestimmen (einfache Version)\n",
        "df = daten[[\"4a. close (EUR)\",\"SMA_15\",\"SMA_10\"]].copy()     #erstelle eine neues DataFrame, für die bessere Übersicht\n",
        "\n",
        "#bestimme die Renditen\n",
        "df[\"pct\"] = df[\"4a. close (EUR)\"].pct_change().shift(-1)    #time shift ist WICHTIG! einer der häufigsten Fehler, wenn er vergessen wird\n",
        "\n",
        "df = df.dropna()                                            #NaN Werte herauswerfen ist WICHTIG! Da es ansonsten zu falschen/ungewollten Signalen kommen könnten\n",
        "\n",
        "# Signal, wenn wir mit dem Schlusskurs über dem SMA liegen\n",
        "df[\"Sig_15\"] = df[\"4a. close (EUR)\"] > df[\"SMA_15\"]\n",
        "df[\"Sig_10\"] = (df[\"4a. close (EUR)\"] > df[\"SMA_10\"])       \n",
        "df.head(3)"
      ]
    },
    {
      "cell_type": "code",
      "execution_count": null,
      "metadata": {
        "colab": {
          "base_uri": "https://localhost:8080/",
          "height": 395
        },
        "id": "axu8k7ilwgXV",
        "outputId": "f9bce813-8a6b-4bcc-bec8-a9a4414edb0b"
      },
      "outputs": [],
      "source": [
        "#bestimme die Portfolios\n",
        "df[\"PF_15\"] = df[\"Sig_15\"] * df[\"pct\"]\n",
        "df[\"myPF_15\"] = (df[\"PF_15\"] +1).cumprod()\n",
        "\n",
        "df[\"PF_10\"] = df[\"Sig_10\"] * df[\"pct\"]\n",
        "df[\"myPF_10\"] = (df[\"PF_10\"] +1).cumprod()\n",
        "\n",
        "df[\"PF_BM\"] =  df[\"pct\"]\n",
        "df[\"myPF_BM\"] = (df[\"PF_BM\"] +1).cumprod()\n",
        "df.tail()"
      ]
    },
    {
      "cell_type": "code",
      "execution_count": null,
      "metadata": {
        "colab": {
          "base_uri": "https://localhost:8080/",
          "height": 461
        },
        "id": "_kfAb7wTy6DV",
        "outputId": "e55f05bc-6e3f-4c60-e907-d0657b48d441"
      },
      "outputs": [],
      "source": [
        "df[[\"myPF_BM\"]].plot(figsize=(16,6))"
      ]
    },
    {
      "cell_type": "code",
      "execution_count": 10,
      "metadata": {
        "id": "lnefe0Lk1rmi"
      },
      "outputs": [],
      "source": [
        "#I. TODO:\n",
        "# Probiere die beiden Signale SMA_15 und SMA_10 zu kombinieren.\n",
        "# FRAGEN: \n",
        "#   1. Was bedeutet das neue Signal? Wann haben wir ein Kaufsignal und wann sind wir in EUR?\n",
        "#   2. Plotte die Performance. Was fällt dir auf?\n",
        "\n",
        "#II. TODO:\n",
        "# Bestimme den \"Gegenspieler\" zum SMA_15, dieser soll immer dann investiert sein, wenn wir mit dem Close Preis unter dem SMA liegen.\n",
        "# FRAGEN:\n",
        "#   1. Plotte die Performance. Was fällt dir auf?\n",
        "#   2. Ist der \"Gegenspieler\" zum SMA_15 (historisch) gesehen ein guter Signalgeber? Würdest du diesen für deine Analyse benutzen?"
      ]
    },
    {
      "cell_type": "code",
      "execution_count": 11,
      "metadata": {},
      "outputs": [],
      "source": [
        "#I. TODO Code zur Lösung:\n"
      ]
    },
    {
      "cell_type": "code",
      "execution_count": 12,
      "metadata": {},
      "outputs": [],
      "source": [
        "#II. TODO Code zur Lösung:\n"
      ]
    },
    {
      "attachments": {},
      "cell_type": "markdown",
      "metadata": {
        "id": "G_IHD0k21sRi"
      },
      "source": [
        "### Ausblick für die zweite Woche\n",
        "\n",
        "- Python-Funktionen\n",
        "- RSI\n",
        "- Risiko Kennzahlen"
      ]
    },
    {
      "cell_type": "code",
      "execution_count": null,
      "metadata": {
        "id": "1Zj7Qhsk15OH"
      },
      "outputs": [],
      "source": []
    },
    {
      "attachments": {},
      "cell_type": "markdown",
      "metadata": {
        "id": "URGYCsBv16S4"
      },
      "source": [
        "### Ausblick für die dritte Woche\n",
        "- Machine Learning Einführung (Regression & Decission Trees)\n",
        "- Training- & Testdatensets\n",
        "- R^2 beim Fitting"
      ]
    },
    {
      "cell_type": "code",
      "execution_count": null,
      "metadata": {
        "id": "Y2RfPS8W2yKD"
      },
      "outputs": [],
      "source": []
    },
    {
      "attachments": {},
      "cell_type": "markdown",
      "metadata": {
        "id": "t7t0eCZo2y6r"
      },
      "source": [
        "### Ausblick vierte Woche\n",
        "- OBV Indikator\n",
        "- Bot-Setup\n",
        "\n",
        "- Ausblick Trading-Competition hosted by GetaBot"
      ]
    },
    {
      "cell_type": "code",
      "execution_count": null,
      "metadata": {
        "id": "TNisf5me2_e6"
      },
      "outputs": [],
      "source": []
    }
  ],
  "metadata": {
    "colab": {
      "provenance": []
    },
    "kernelspec": {
      "display_name": "Python 3",
      "name": "python3"
    },
    "language_info": {
      "codemirror_mode": {
        "name": "ipython",
        "version": 3
      },
      "file_extension": ".py",
      "mimetype": "text/x-python",
      "name": "python",
      "nbconvert_exporter": "python",
      "pygments_lexer": "ipython3",
      "version": "3.11.3"
    }
  },
  "nbformat": 4,
  "nbformat_minor": 0
}
