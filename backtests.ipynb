{
 "cells": [
  {
   "cell_type": "code",
   "execution_count": 22,
   "metadata": {},
   "outputs": [],
   "source": [
    "from bot import get_historical_data\n",
    "import pandas as pd\n",
    "from binance.client import Client\n",
    "import matplotlib.pyplot as plt"
   ]
  },
  {
   "cell_type": "code",
   "execution_count": 3,
   "metadata": {},
   "outputs": [],
   "source": [
    "transaction_costs = 0.0005\n",
    "\n",
    "# Start investment is EURO!"
   ]
  },
  {
   "cell_type": "code",
   "execution_count": 4,
   "metadata": {},
   "outputs": [],
   "source": [
    "# Fetch Bitcoin prices at 5-minute intervals for the last 40 days\n",
    "symbol = 'BTCEUR'\n",
    "interval = Client.KLINE_INTERVAL_1HOUR\n",
    "days = 5000\n",
    "\n",
    "bitcoin_data = get_historical_data(symbol, interval, days)"
   ]
  },
  {
   "cell_type": "code",
   "execution_count": 5,
   "metadata": {},
   "outputs": [
    {
     "data": {
      "text/plain": [
       "(39981, 12)"
      ]
     },
     "execution_count": 5,
     "metadata": {},
     "output_type": "execute_result"
    }
   ],
   "source": [
    "bitcoin_data.shape"
   ]
  },
  {
   "cell_type": "code",
   "execution_count": 6,
   "metadata": {},
   "outputs": [],
   "source": [
    "bitcoin_data[\"pct\"] = bitcoin_data[\"Close\"].pct_change().shift(-1)    #time shift ist WICHTIG! einer der häufigsten Fehler, wenn er vergessen wird"
   ]
  },
  {
   "cell_type": "code",
   "execution_count": 7,
   "metadata": {},
   "outputs": [],
   "source": [
    "bitcoin_data.dropna(inplace=True)"
   ]
  },
  {
   "cell_type": "code",
   "execution_count": 8,
   "metadata": {},
   "outputs": [
    {
     "data": {
      "text/html": [
       "<div>\n",
       "<style scoped>\n",
       "    .dataframe tbody tr th:only-of-type {\n",
       "        vertical-align: middle;\n",
       "    }\n",
       "\n",
       "    .dataframe tbody tr th {\n",
       "        vertical-align: top;\n",
       "    }\n",
       "\n",
       "    .dataframe thead th {\n",
       "        text-align: right;\n",
       "    }\n",
       "</style>\n",
       "<table border=\"1\" class=\"dataframe\">\n",
       "  <thead>\n",
       "    <tr style=\"text-align: right;\">\n",
       "      <th></th>\n",
       "      <th>Open time</th>\n",
       "      <th>Open</th>\n",
       "      <th>High</th>\n",
       "      <th>Low</th>\n",
       "      <th>Close</th>\n",
       "      <th>Volume</th>\n",
       "      <th>Close time</th>\n",
       "      <th>Quote asset volume</th>\n",
       "      <th>Number of trades</th>\n",
       "      <th>Taker buy base asset volume</th>\n",
       "      <th>Taker buy quote asset volume</th>\n",
       "      <th>Ignore</th>\n",
       "      <th>pct</th>\n",
       "    </tr>\n",
       "  </thead>\n",
       "  <tbody>\n",
       "    <tr>\n",
       "      <th>0</th>\n",
       "      <td>2020-01-03 09:00:00+01:00</td>\n",
       "      <td>6244.33</td>\n",
       "      <td>6506.73</td>\n",
       "      <td>6244.33</td>\n",
       "      <td>6506.73</td>\n",
       "      <td>0.310455</td>\n",
       "      <td>2020-01-03 09:59:59.999000072+01:00</td>\n",
       "      <td>2005.126436</td>\n",
       "      <td>13</td>\n",
       "      <td>0.120004</td>\n",
       "      <td>776.814624</td>\n",
       "      <td>0</td>\n",
       "      <td>0.006899</td>\n",
       "    </tr>\n",
       "    <tr>\n",
       "      <th>1</th>\n",
       "      <td>2020-01-03 10:00:00+01:00</td>\n",
       "      <td>6548.22</td>\n",
       "      <td>6551.62</td>\n",
       "      <td>6548.22</td>\n",
       "      <td>6551.62</td>\n",
       "      <td>0.050000</td>\n",
       "      <td>2020-01-03 10:59:59.999000072+01:00</td>\n",
       "      <td>327.482250</td>\n",
       "      <td>2</td>\n",
       "      <td>0.050000</td>\n",
       "      <td>327.482250</td>\n",
       "      <td>0</td>\n",
       "      <td>0.002108</td>\n",
       "    </tr>\n",
       "    <tr>\n",
       "      <th>2</th>\n",
       "      <td>2020-01-03 11:00:00+01:00</td>\n",
       "      <td>6565.43</td>\n",
       "      <td>6565.43</td>\n",
       "      <td>6565.38</td>\n",
       "      <td>6565.43</td>\n",
       "      <td>0.101456</td>\n",
       "      <td>2020-01-03 11:59:59.999000072+01:00</td>\n",
       "      <td>666.101759</td>\n",
       "      <td>3</td>\n",
       "      <td>0.010133</td>\n",
       "      <td>66.526996</td>\n",
       "      <td>0</td>\n",
       "      <td>0.002458</td>\n",
       "    </tr>\n",
       "    <tr>\n",
       "      <th>3</th>\n",
       "      <td>2020-01-03 12:00:00+01:00</td>\n",
       "      <td>6565.43</td>\n",
       "      <td>6607.39</td>\n",
       "      <td>6535.82</td>\n",
       "      <td>6581.57</td>\n",
       "      <td>2.079176</td>\n",
       "      <td>2020-01-03 12:59:59.999000072+01:00</td>\n",
       "      <td>13671.415750</td>\n",
       "      <td>56</td>\n",
       "      <td>1.089576</td>\n",
       "      <td>7184.545758</td>\n",
       "      <td>0</td>\n",
       "      <td>0.000000</td>\n",
       "    </tr>\n",
       "    <tr>\n",
       "      <th>4</th>\n",
       "      <td>2020-01-03 13:00:00+01:00</td>\n",
       "      <td>6581.57</td>\n",
       "      <td>6581.57</td>\n",
       "      <td>6581.57</td>\n",
       "      <td>6581.57</td>\n",
       "      <td>0.000000</td>\n",
       "      <td>2020-01-03 13:59:59.999000072+01:00</td>\n",
       "      <td>0.000000</td>\n",
       "      <td>0</td>\n",
       "      <td>0.000000</td>\n",
       "      <td>0.000000</td>\n",
       "      <td>0</td>\n",
       "      <td>0.000000</td>\n",
       "    </tr>\n",
       "  </tbody>\n",
       "</table>\n",
       "</div>"
      ],
      "text/plain": [
       "                  Open time     Open     High      Low    Close    Volume  \\\n",
       "0 2020-01-03 09:00:00+01:00  6244.33  6506.73  6244.33  6506.73  0.310455   \n",
       "1 2020-01-03 10:00:00+01:00  6548.22  6551.62  6548.22  6551.62  0.050000   \n",
       "2 2020-01-03 11:00:00+01:00  6565.43  6565.43  6565.38  6565.43  0.101456   \n",
       "3 2020-01-03 12:00:00+01:00  6565.43  6607.39  6535.82  6581.57  2.079176   \n",
       "4 2020-01-03 13:00:00+01:00  6581.57  6581.57  6581.57  6581.57  0.000000   \n",
       "\n",
       "                           Close time  Quote asset volume  Number of trades  \\\n",
       "0 2020-01-03 09:59:59.999000072+01:00         2005.126436                13   \n",
       "1 2020-01-03 10:59:59.999000072+01:00          327.482250                 2   \n",
       "2 2020-01-03 11:59:59.999000072+01:00          666.101759                 3   \n",
       "3 2020-01-03 12:59:59.999000072+01:00        13671.415750                56   \n",
       "4 2020-01-03 13:59:59.999000072+01:00            0.000000                 0   \n",
       "\n",
       "   Taker buy base asset volume  Taker buy quote asset volume Ignore       pct  \n",
       "0                     0.120004                    776.814624      0  0.006899  \n",
       "1                     0.050000                    327.482250      0  0.002108  \n",
       "2                     0.010133                     66.526996      0  0.002458  \n",
       "3                     1.089576                   7184.545758      0  0.000000  \n",
       "4                     0.000000                      0.000000      0  0.000000  "
      ]
     },
     "execution_count": 8,
     "metadata": {},
     "output_type": "execute_result"
    }
   ],
   "source": [
    "bitcoin_data.head()"
   ]
  },
  {
   "cell_type": "code",
   "execution_count": 9,
   "metadata": {},
   "outputs": [],
   "source": [
    "bitcoin_data[\"MOM\"] = bitcoin_data[\"Close\"] / bitcoin_data[\"Close\"].shift(30)"
   ]
  },
  {
   "cell_type": "code",
   "execution_count": 18,
   "metadata": {},
   "outputs": [],
   "source": [
    "#BUY_FILTER = (bitcoin_data[\"pct\"] > 0).shift(1) == True\n",
    "BUY_FILTER = bitcoin_data[\"Open time\"].dt.day_of_week== 0"
   ]
  },
  {
   "cell_type": "code",
   "execution_count": null,
   "metadata": {},
   "outputs": [],
   "source": [
    "bitcoin_data.loc[BUY_FILTER, \"pct\"]"
   ]
  },
  {
   "cell_type": "code",
   "execution_count": 19,
   "metadata": {},
   "outputs": [
    {
     "data": {
      "text/plain": [
       "<Axes: >"
      ]
     },
     "execution_count": 19,
     "metadata": {},
     "output_type": "execute_result"
    },
    {
     "data": {
      "image/png": "[encoded data removed]",
      "text/plain": [
       "<Figure size 640x480 with 1 Axes>"
      ]
     },
     "metadata": {},
     "output_type": "display_data"
    }
   ],
   "source": [
    "(1 + bitcoin_data.loc[BUY_FILTER, \"pct\"]).cumprod().plot()\n",
    "(1 + bitcoin_data.loc[:, \"pct\"]).cumprod().plot()"
   ]
  },
  {
   "cell_type": "code",
   "execution_count": 23,
   "metadata": {},
   "outputs": [],
   "source": [
    "def sharpe_ratio(s: pd.Series):\n",
    "    sharpe = s.mean() / s.std()\n",
    "    return sharpe"
   ]
  },
  {
   "cell_type": "code",
   "execution_count": 24,
   "metadata": {},
   "outputs": [
    {
     "data": {
      "text/plain": [
       "np.float64(0.025404401819828275)"
      ]
     },
     "execution_count": 24,
     "metadata": {},
     "output_type": "execute_result"
    }
   ],
   "source": [
    "sharpe_ratio(bitcoin_data.loc[BUY_FILTER, \"pct\"])"
   ]
  },
  {
   "cell_type": "code",
   "execution_count": 25,
   "metadata": {},
   "outputs": [
    {
     "data": {
      "text/plain": [
       "np.float64(0.011564617617700633)"
      ]
     },
     "execution_count": 25,
     "metadata": {},
     "output_type": "execute_result"
    }
   ],
   "source": [
    "sharpe_ratio(bitcoin_data.loc[:, \"pct\"])"
   ]
  },
  {
   "cell_type": "code",
   "execution_count": null,
   "metadata": {},
   "outputs": [],
   "source": []
  }
 ],
 "metadata": {
  "kernelspec": {
   "display_name": ".venv",
   "language": "python",
   "name": "python3"
  },
  "language_info": {
   "codemirror_mode": {
    "name": "ipython",
    "version": 3
   },
   "file_extension": ".py",
   "mimetype": "text/x-python",
   "name": "python",
   "nbconvert_exporter": "python",
   "pygments_lexer": "ipython3",
   "version": "3.11.3"
  }
 },
 "nbformat": 4,
 "nbformat_minor": 2
}
