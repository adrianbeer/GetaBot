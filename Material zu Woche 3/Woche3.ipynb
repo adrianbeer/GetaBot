{
 "cells": [
  {
   "cell_type": "code",
   "execution_count": 1,
   "metadata": {},
   "outputs": [],
   "source": [
    "#0. import von relevanten Bibliotheken\n",
    "import numpy as np\n",
    "import pandas as pd\n",
    "import matplotlib.pyplot as plt\n",
    "\n",
    "from sklearn.linear_model import LinearRegression\n",
    "\n",
    "from sklearn.tree import DecisionTreeRegressor\n",
    "from sklearn import tree "
   ]
  },
  {
   "attachments": {},
   "cell_type": "markdown",
   "metadata": {},
   "source": [
    "## Woche 3 - Machine Learning Wrap-Up\n",
    "\n",
    "In dieser Woche betrachten wir die Lineare Regession und Decision Trees als Modelle, welche uns helfen sollen \n",
    "das Esemble aus Indikatoren zu dirigieren.\n",
    "\n",
    "#### Training und Test Datensatz\n",
    "\n",
    "#### Lineare Regression\n",
    "\n",
    "\n",
    "#### Decision Trees\n",
    "\n",
    "\n"
   ]
  },
  {
   "cell_type": "code",
   "execution_count": 2,
   "metadata": {},
   "outputs": [],
   "source": [
    "#Definition zum Simple Moving Average (SMA)\n",
    "def sma(data: pd.DataFrame,intervall:int):\n",
    "  #diese Funktion berechnet den SMA_intervall von dem Input data\n",
    "  #der SMA wird immer von dem Column \"4a. close (EUR)\" berechnet\n",
    "  #ACHTUNG: Stelle sicher, dass data immer diese Spalte besitzt\n",
    "  spalten_name = \"SMA_\"+str(intervall)\n",
    "  data[spalten_name] = data[\"4a. close (EUR)\"].rolling(intervall).mean()\n",
    "\n",
    "#Definition des Relative Strength Index (RSI)\n",
    "def RSI_berechnen(data:pd.DataFrame,intervall:int):\n",
    "\n",
    "  spalten_name = \"RSI_\"+str(intervall)\n",
    "  data[spalten_name] = data[\"4a. close (EUR)\"].rolling(intervall).mean()\n",
    "\n",
    "  # Bestimme die Preisänderung zum jeweiligen Zeitpunkt t-1\n",
    "  delta = data[\"4a. close (EUR)\"].diff()\n",
    "\n",
    "  # Get rid of the first row, which has NaN values\n",
    "  delta = delta[1:]\n",
    "\n",
    "  # Calculate the gains and losses\n",
    "  up = delta.where(delta > 0, 0)\n",
    "  down = -delta.where(delta < 0, 0)\n",
    "\n",
    "  # Calculate the rolling average of the gains and losses\n",
    "  #window_size = 14 #als default\n",
    "  avg_gain = up.rolling(intervall).mean()\n",
    "  avg_loss = down.rolling(intervall).mean()\n",
    "\n",
    "  # Calculate the relative strength\n",
    "  rs = avg_gain / avg_loss\n",
    "\n",
    "  # Calculate the RSI\n",
    "  data[spalten_name] = 100 - (100 / (1 + rs))\n"
   ]
  },
  {
   "cell_type": "code",
   "execution_count": null,
   "metadata": {},
   "outputs": [],
   "source": [
    "#1. laden von dem Datensatz\n",
    "daten = pd.read_csv(\"daten_07_05_2020_bis_31_01_2023.csv\",index_col=\"date\")\n",
    "daten = daten.sort_index(axis=0)\n",
    "df = daten[[\"4a. close (EUR)\"]].copy()\n",
    "df.head()"
   ]
  },
  {
   "cell_type": "code",
   "execution_count": 84,
   "metadata": {},
   "outputs": [],
   "source": [
    "#Indikatoren bestimmen\n",
    "for i in range(2,21):\n",
    "    RSI_berechnen(data=df,intervall=i)\n",
    "    sma(data=df,intervall=i)\n",
    "#pct Change bestimmen\n",
    "df[\"pct\"] = df[\"4a. close (EUR)\"].pct_change().shift(-1)\n",
    "\n",
    "df = df.dropna()"
   ]
  },
  {
   "cell_type": "code",
   "execution_count": null,
   "metadata": {},
   "outputs": [],
   "source": [
    "df.head(2)"
   ]
  },
  {
   "cell_type": "code",
   "execution_count": 91,
   "metadata": {},
   "outputs": [],
   "source": [
    "#Aufteilen des Datensatzes in Train (bekannter Teil) und Test (unbekannt)\n",
    "train_size = int(len(df) * 0.8)\n",
    "df_train = df.iloc[:train_size]\n",
    "df_test = df.iloc[train_size:]"
   ]
  },
  {
   "cell_type": "code",
   "execution_count": null,
   "metadata": {},
   "outputs": [],
   "source": [
    "#for loop Daten review\n",
    "# Statistisch Sinnvoll den RSI zu verwenden?\n",
    "\n",
    "for k in range(4,21):\n",
    "    print(\"\\nNEUER RSI\" ,k)\n",
    "    my_rsi=\"RSI_\"+str(k)\n",
    "\n",
    "    grenze = 25.0\n",
    "    grenze_ob = 100 - grenze\n",
    "    print(f\"{my_rsi} {grenze}-Quantil:\\n\",df_train[\"pct\"][df_train[my_rsi]<grenze].describe())\n",
    "    print(\"\\npositiv in nächster Periode:\" , (df_train[\"pct\"].where(df_train[my_rsi]<grenze)>=0.0).value_counts()[1])\n",
    "    print(\"negativ in nächster Periode:\" , (df_train[\"pct\"].where(df_train[my_rsi]<grenze)<0.0).value_counts()[1])\n",
    "    print(\"Quotient: \",(df_train[\"pct\"].where(df_train[my_rsi]<grenze)>=0.0).value_counts()[1]/(df_train[\"pct\"].where(df_train[my_rsi]<grenze)<0.0).value_counts()[1])\n",
    "\n",
    "    print(\"-- -- -- -- -- -- --\")\n",
    "\n",
    "    print(f\"\\n{my_rsi} {grenze_ob}-Quantil:\\n\",df_train[\"pct\"][df_train[my_rsi]>grenze_ob].describe())\n",
    "    print(\"\\npositiv in nächster Periode:\" , (df_train[\"pct\"].where(df_train[my_rsi]>grenze_ob)>=0.0).value_counts()[1])\n",
    "    print(\"negativ in nächster Periode:\" , (df_train[\"pct\"].where(df_train[my_rsi]>grenze_ob)<0.0).value_counts()[1])\n",
    "    print(\"Quotient: \",(df_train[\"pct\"].where(df_train[my_rsi]>grenze_ob)<0.0).value_counts()[1]/(df_train[\"pct\"].where(df_train[my_rsi]>grenze_ob)>=0.0).value_counts()[1])\n",
    "\n",
    "    plt.figure(k)\n",
    "    plt.scatter(df_train[my_rsi].where(df_train[my_rsi]<grenze),df_train[\"pct\"].where(df_train[my_rsi]<grenze))\n",
    "    plt.axhline(color=\"r\")\n",
    "    plt.axhline(df_train[\"pct\"][df_train[my_rsi]<grenze].median(), xmax=grenze/100.00,color=\"black\")\n",
    "    plt.axhline(df_train[\"pct\"][df_train[my_rsi]<grenze].mean(), xmax=grenze/200.00,color=\"cyan\")\n",
    "\n",
    "    plt.scatter(df_train[my_rsi].where(df_train[my_rsi]>grenze_ob),df_train[\"pct\"].where(df_train[my_rsi]>grenze_ob))\n",
    "    plt.axhline(color=\"r\")\n",
    "    plt.axhline(df_train[\"pct\"][df_train[my_rsi]>grenze_ob].median(), xmin=grenze_ob/100.00,color=\"black\")\n",
    "    plt.axhline(df_train[\"pct\"][df_train[my_rsi]>grenze_ob].mean(), xmin=grenze_ob/85.00,color=\"cyan\")\n",
    "\n",
    "    plt.show()"
   ]
  },
  {
   "cell_type": "code",
   "execution_count": null,
   "metadata": {},
   "outputs": [],
   "source": [
    "# Train Daten RSI_17\n",
    "my_rsi=\"RSI_\"+str(17)\n",
    "\n",
    "grenze = 25.0\n",
    "grenze_ob = 100 - grenze\n",
    "print(f\"{my_rsi} {grenze}-Quantil:\\n\",df_train[\"pct\"][df_train[my_rsi]<grenze].describe())\n",
    "print(\"\\npositiv in nächster Periode:\" , (df_train[\"pct\"].where(df_train[my_rsi]<grenze)>=0.0).value_counts()[1])\n",
    "print(\"negativ in nächster Periode:\" , (df_train[\"pct\"].where(df_train[my_rsi]<grenze)<0.0).value_counts()[1])\n",
    "print(\"Quotient: \",(df_train[\"pct\"].where(df_train[my_rsi]<grenze)>=0.0).value_counts()[1]/(df_train[\"pct\"].where(df_train[my_rsi]<grenze)<0.0).value_counts()[1])\n",
    "\n",
    "print(\"-- -- -- -- -- -- --\")\n",
    "\n",
    "print(f\"\\n{my_rsi} {grenze_ob}-Quantil:\\n\",df_train[\"pct\"][df_train[my_rsi]>grenze_ob].describe())\n",
    "print(\"\\npositiv in nächster Periode:\" , (df_train[\"pct\"].where(df_train[my_rsi]>grenze_ob)>=0.0).value_counts()[1])\n",
    "print(\"negativ in nächster Periode:\" , (df_train[\"pct\"].where(df_train[my_rsi]>grenze_ob)<0.0).value_counts()[1])\n",
    "print(\"Quotient: \",(df_train[\"pct\"].where(df_train[my_rsi]>grenze_ob)<0.0).value_counts()[1]/(df_train[\"pct\"].where(df_train[my_rsi]>grenze_ob)>=0.0).value_counts()[1])\n",
    "\n",
    "plt.scatter(df_train[my_rsi],df_train[\"pct\"])\n",
    "plt.scatter(df_train[my_rsi].where(df_train[my_rsi]<grenze),df_train[\"pct\"].where(df_train[my_rsi]<grenze))\n",
    "plt.scatter(df_train[my_rsi].where(df_train[my_rsi]>grenze_ob),df_train[\"pct\"].where(df_train[my_rsi]>grenze_ob))\n",
    "\n",
    "plt.axhline(color=\"r\")\n",
    "plt.axvline(grenze, ymin=0.3, ymax=0.8,color=\"y\")\n",
    "plt.axvline(grenze_ob,ymin=0.3, ymax=0.8,color=\"y\")\n",
    "\n",
    "plt.axhline(df_train[\"pct\"][df_train[my_rsi]<grenze].median(), xmax=grenze/100.00,color=\"black\")\n",
    "plt.axhline(df_train[\"pct\"][df_train[my_rsi]<grenze].mean(), xmax=grenze/200.00,color=\"cyan\")\n",
    "plt.axhline(df_train[\"pct\"][df_train[my_rsi]>grenze_ob].median(), xmin=grenze_ob/100.00,color=\"black\")\n",
    "plt.axhline(df_train[\"pct\"][df_train[my_rsi]>grenze_ob].mean(), xmin=grenze_ob/85.00,color=\"cyan\")\n"
   ]
  },
  {
   "cell_type": "code",
   "execution_count": null,
   "metadata": {},
   "outputs": [],
   "source": [
    "#Test Daten RSI_17\n",
    "my_rsi=\"RSI_\"+str(17)\n",
    "\n",
    "grenze = 25.0\n",
    "grenze_ob = 100 - grenze\n",
    "print(f\"{my_rsi} {grenze}-Quantil:\\n\",df_test[\"pct\"][df_test[my_rsi]<grenze].describe())\n",
    "print(\"\\npositiv in nächster Periode:\" , (df_test[\"pct\"].where(df_test[my_rsi]<grenze)>=0.0).value_counts()[1])\n",
    "print(\"negativ in nächster Periode:\" , (df_test[\"pct\"].where(df_test[my_rsi]<grenze)<0.0).value_counts()[1])\n",
    "print(\"Quotient: \",(df_test[\"pct\"].where(df_test[my_rsi]<grenze)>=0.0).value_counts()[1]/(df_test[\"pct\"].where(df_test[my_rsi]<grenze)<0.0).value_counts()[1])\n",
    "\n",
    "print(\"-- -- -- -- -- -- --\")\n",
    "\n",
    "print(f\"\\n{my_rsi} {grenze_ob}-Quantil:\\n\",df_test[\"pct\"][df_test[my_rsi]>grenze_ob].describe())\n",
    "print(\"\\npositiv in nächster Periode:\" , (df_test[\"pct\"].where(df_test[my_rsi]>grenze_ob)>=0.0).value_counts()[1])\n",
    "print(\"negativ in nächster Periode:\" , (df_test[\"pct\"].where(df_test[my_rsi]>grenze_ob)<0.0).value_counts()[1])\n",
    "print(\"Quotient: \",(df_test[\"pct\"].where(df_test[my_rsi]>grenze_ob)<0.0).value_counts()[1]/(df_test[\"pct\"].where(df_test[my_rsi]>grenze_ob)>=0.0).value_counts()[1])\n",
    "\n",
    "plt.scatter(df_test[my_rsi],df_test[\"pct\"])\n",
    "plt.scatter(df_test[my_rsi].where(df_test[my_rsi]<grenze),df_test[\"pct\"].where(df_test[my_rsi]<grenze))\n",
    "plt.scatter(df_test[my_rsi].where(df_test[my_rsi]>grenze_ob),df_test[\"pct\"].where(df_test[my_rsi]>grenze_ob))\n",
    "\n",
    "plt.axhline(color=\"r\")\n",
    "plt.axvline(grenze, ymin=0.3, ymax=0.8,color=\"y\")\n",
    "plt.axvline(grenze_ob,ymin=0.3, ymax=0.8,color=\"y\")\n",
    "\n",
    "plt.axhline(df_test[\"pct\"][df_test[my_rsi]<grenze].median(), xmax=grenze/100.00,color=\"black\")\n",
    "plt.axhline(df_test[\"pct\"][df_test[my_rsi]<grenze].mean(), xmax=grenze/200.00,color=\"cyan\")\n",
    "plt.axhline(df_test[\"pct\"][df_test[my_rsi]>grenze_ob].median(), xmin=grenze_ob/100.00,color=\"black\")\n",
    "plt.axhline(df_test[\"pct\"][df_test[my_rsi]>grenze_ob].mean(), xmin=grenze_ob/85.00,color=\"cyan\")\n"
   ]
  },
  {
   "cell_type": "code",
   "execution_count": null,
   "metadata": {},
   "outputs": [],
   "source": [
    "#Gesamt\n",
    "\n",
    "my_rsi=\"RSI_\"+str(17)\n",
    "\n",
    "grenze = 25.0\n",
    "grenze_ob = 100 - grenze\n",
    "print(f\"{my_rsi} {grenze}-Quantil:\\n\",df[\"pct\"][df[my_rsi]<grenze].describe())\n",
    "print(\"\\npositiv in nächster Periode:\" , (df[\"pct\"].where(df[my_rsi]<grenze)>=0.0).value_counts()[1])\n",
    "print(\"negativ in nächster Periode:\" , (df[\"pct\"].where(df[my_rsi]<grenze)<0.0).value_counts()[1])\n",
    "print(\"Quotient: \",(df[\"pct\"].where(df[my_rsi]<grenze)>=0.0).value_counts()[1]/(df[\"pct\"].where(df[my_rsi]<grenze)<0.0).value_counts()[1])\n",
    "\n",
    "print(\"-- -- -- -- -- -- --\")\n",
    "\n",
    "print(f\"\\n{my_rsi} {grenze_ob}-Quantil:\\n\",df[\"pct\"][df[my_rsi]>grenze_ob].describe())\n",
    "print(\"\\npositiv in nächster Periode:\" , (df[\"pct\"].where(df[my_rsi]>grenze_ob)>=0.0).value_counts()[1])\n",
    "print(\"negativ in nächster Periode:\" , (df[\"pct\"].where(df[my_rsi]>grenze_ob)<0.0).value_counts()[1])\n",
    "print(\"Quotient: \",(df[\"pct\"].where(df[my_rsi]>grenze_ob)<0.0).value_counts()[1]/(df[\"pct\"].where(df[my_rsi]>grenze_ob)>=0.0).value_counts()[1])\n",
    "\n",
    "plt.scatter(df[my_rsi],df[\"pct\"])\n",
    "plt.scatter(df[my_rsi].where(df[my_rsi]<grenze),df[\"pct\"].where(df[my_rsi]<grenze))\n",
    "plt.scatter(df[my_rsi].where(df[my_rsi]>grenze_ob),df[\"pct\"].where(df[my_rsi]>grenze_ob))\n",
    "\n",
    "plt.axhline(color=\"r\")\n",
    "plt.axvline(grenze, ymin=0.3, ymax=0.8,color=\"y\")\n",
    "plt.axvline(grenze_ob,ymin=0.3, ymax=0.8,color=\"y\")\n",
    "\n",
    "plt.axhline(df[\"pct\"][df[my_rsi]<grenze].median(), xmax=grenze/100.00,color=\"black\")\n",
    "plt.axhline(df[\"pct\"][df[my_rsi]<grenze].mean(), xmax=grenze/200.00,color=\"cyan\")\n",
    "plt.axhline(df[\"pct\"][df[my_rsi]>grenze_ob].median(), xmin=grenze_ob/100.00,color=\"black\")\n",
    "plt.axhline(df[\"pct\"][df[my_rsi]>grenze_ob].mean(), xmin=grenze_ob/85.00,color=\"cyan\")\n"
   ]
  },
  {
   "attachments": {},
   "cell_type": "markdown",
   "metadata": {},
   "source": [
    "### Regression\n",
    "\n",
    "Die lineare Regression ist eine statistische Methode, welche die Beziehung zwischen Variablen analisiert.\n",
    "Mathematische Formel:\n",
    "\n",
    "$ y = \\beta_0 + \\beta_1 * x_1 + ... + \\beta_n * x_n + \\epsilon$\n",
    "\n",
    "wobei $\\beta_0$ der sogenannte \"Intercept\", $x=(x_1,...,x_n)$ der Input Vektor, $(\\beta_1,..., \\beta_n)$ die Koeffizienten und $\\epsilon$ den Fehlerterm beschreiben.\n",
    "\n",
    "Bildlich gesprochen, versucht man mit der Regression eine \"Gerade\" zu finden, welche die Distanz zu den Datenpunkten minimiert."
   ]
  },
  {
   "cell_type": "code",
   "execution_count": null,
   "metadata": {},
   "outputs": [],
   "source": [
    "#Linear Regession\n",
    "\n",
    "#Training und Test Size aufteilen\n",
    "train_size = int(len(df) * 0.8)\n",
    "train_data = df.iloc[:train_size]\n",
    "test_data = df.iloc[train_size:]\n",
    "\n",
    "model = LinearRegression()\n",
    "model.fit(train_data[[\"RSI_17\"]], train_data[\"pct\"])"
   ]
  },
  {
   "attachments": {},
   "cell_type": "markdown",
   "metadata": {},
   "source": [
    "y = b_0 + b_1 * x\n",
    "\n",
    "y_pred = 0.00567 + (-0.0000743) * x"
   ]
  },
  {
   "cell_type": "code",
   "execution_count": null,
   "metadata": {},
   "outputs": [],
   "source": [
    "nst = model.intercept_/((-1)*model.coef_)\n",
    "nst"
   ]
  },
  {
   "cell_type": "code",
   "execution_count": null,
   "metadata": {},
   "outputs": [],
   "source": [
    "#Was unsere Regression macht:\n",
    "X_train = train_data[\"RSI_17\"].values[:,np.newaxis]\n",
    "y_train = train_data[\"pct\"].values\n",
    "\n",
    "plt.scatter(X_train,y_train,color=\"g\")\n",
    "plt.plot(X_train,model.predict(X_train),color=\"black\")\n",
    "plt.axhline(color=\"r\")\n",
    "\n",
    "nst = model.intercept_/((-1)*model.coef_)\n",
    "nst"
   ]
  },
  {
   "cell_type": "code",
   "execution_count": 12,
   "metadata": {},
   "outputs": [],
   "source": [
    "#predict\n",
    "y1 = model.predict(df[[\"RSI_17\"]].iloc[train_size:]) "
   ]
  },
  {
   "cell_type": "code",
   "execution_count": null,
   "metadata": {},
   "outputs": [],
   "source": [
    "#PF bestimmen\n",
    "PF = pd.DataFrame(df[\"pct\"].iloc[train_size:])\n",
    "PF[\"pred\"] = y1\n",
    "\n",
    "PF[\"PF_17\"] = (PF[\"pred\"]>0.0) * PF[\"pct\"]\n",
    "PF[\"myPF_17\"] = (PF[\"PF_17\"] +1).cumprod()\n",
    "\n",
    "PF[\"PF_BM\"] =  PF[\"pct\"]\n",
    "PF[\"myPF_BM\"] = (PF[\"PF_BM\"] +1).cumprod()\n",
    "\n",
    "PF.tail()"
   ]
  },
  {
   "cell_type": "code",
   "execution_count": null,
   "metadata": {},
   "outputs": [],
   "source": [
    "#Plotte dein Ergebnis\n",
    "PF[[\"myPF_BM\",\"myPF_17\"]].plot(figsize=(16,6))"
   ]
  },
  {
   "attachments": {},
   "cell_type": "markdown",
   "metadata": {},
   "source": [
    "## Decision Tree\n",
    "\n",
    "Decision trees sind eine powervolle ML Methode, die sowohl für eine Klassifikation als auch eine Regression verwendet werden kann.\n",
    "\n",
    "Ein Vorteil des Decision Trees gegenüber der Regression ist, dass er sogar mit fehlenden (NAN) Werten arbeiten kann. Jedoch neigt er zu einem Overfitting, wenn die \"depth-size\" (Tiefe) des Baums zu hoch gewählt wird.\n",
    "\n",
    "\n",
    "Wir gehen im folgenden auf einen Decision Tree ein:\n",
    "\n",
    "\n",
    "\n"
   ]
  },
  {
   "cell_type": "code",
   "execution_count": null,
   "metadata": {},
   "outputs": [],
   "source": [
    "import numpy as np\n",
    "from sklearn.tree import DecisionTreeRegressor\n",
    "import matplotlib.pyplot as plt\n",
    "\n",
    "my_rsi = \"RSI_\" + str(17)\n",
    "\n",
    "# Aufteilen der Daten in Trainings- und Testdaten\n",
    "train_size = int(len(df) * 0.8)\n",
    "train_data = df.iloc[:train_size]\n",
    "test_data = df.iloc[train_size:]\n",
    "\n",
    "X_train = train_data[[my_rsi,\"SMA_17\",\"SMA_10\",\"SMA_15\",\"RSI_10\"]].to_numpy()      #X_train = train_data[[my_rsi,\"SMA_17\"]].to_numpy()\n",
    "Y_train = train_data[\"pct\"].to_numpy()\n",
    "\n",
    "X_test = test_data[[my_rsi,\"SMA_17\",\"SMA_10\",\"SMA_15\",\"RSI_10\"]].to_numpy()         #X_test = test_data[[my_rsi,\"SMA_17\"]].to_numpy()\n",
    "Y_test = test_data[\"pct\"].to_numpy()\n",
    "\n",
    "\n",
    "# Fit regression model\n",
    "regr_1 = DecisionTreeRegressor(max_depth=5,random_state=1234)\n",
    "regr_2 = DecisionTreeRegressor(max_depth=30,random_state=1234)    \n",
    "regr_1.fit(X_train, Y_train)\n",
    "regr_2.fit(X_train, Y_train)"
   ]
  },
  {
   "cell_type": "code",
   "execution_count": null,
   "metadata": {},
   "outputs": [],
   "source": [
    "#plotten des Baums\n",
    "plt.figure(figsize=(16,10))\n",
    "tree.plot_tree(regr_1,fontsize=8)\n",
    "plt.show()"
   ]
  },
  {
   "cell_type": "code",
   "execution_count": null,
   "metadata": {},
   "outputs": [],
   "source": [
    "# Die \"Güte\" der Modelle nach R^2\n",
    "print(\"Model 1:\")\n",
    "print(regr_1.score(X_train,y_train))\n",
    "print(regr_1.score(X=X_test,y=Y_test))\n",
    "\n",
    "print(\"\\nModel 2:\")\n",
    "print(regr_2.score(X_train,y_train))\n",
    "print(regr_2.score(X=X_test,y=Y_test))"
   ]
  },
  {
   "cell_type": "code",
   "execution_count": null,
   "metadata": {},
   "outputs": [],
   "source": [
    "regr_1.feature_importances_"
   ]
  },
  {
   "cell_type": "code",
   "execution_count": null,
   "metadata": {},
   "outputs": [],
   "source": [
    "regr_2.feature_importances_"
   ]
  },
  {
   "cell_type": "code",
   "execution_count": 77,
   "metadata": {},
   "outputs": [],
   "source": [
    "#predict\n",
    "y_1 = regr_1.predict(X_test) \n",
    "y_2 = regr_2.predict(X_test)"
   ]
  },
  {
   "cell_type": "code",
   "execution_count": null,
   "metadata": {},
   "outputs": [],
   "source": [
    "PF = pd.DataFrame(df[\"pct\"].iloc[train_size:])\n",
    "PF[\"pred\"] = y_1\n",
    "PF[\"pred2\"] = y_2\n",
    "\n",
    "PF[\"PF_17\"] = (PF[\"pred\"]>0.0) * PF[\"pct\"]\n",
    "PF[\"myPF_17\"] = (PF[\"PF_17\"] +1).cumprod()\n",
    "\n",
    "PF[\"PF_17v2\"] = (PF[\"pred2\"]>0.0) * PF[\"pct\"]\n",
    "PF[\"myPF_17v2\"] = (PF[\"PF_17v2\"] +1).cumprod()\n",
    "\n",
    "PF[\"PF_BM\"] =  PF[\"pct\"]\n",
    "PF[\"myPF_BM\"] = (PF[\"PF_BM\"] +1).cumprod()\n",
    "\n",
    "PF.tail()"
   ]
  },
  {
   "cell_type": "code",
   "execution_count": null,
   "metadata": {},
   "outputs": [],
   "source": [
    "PF[[\"myPF_BM\",\"myPF_17\",\"myPF_17v2\"]].plot(figsize=(16,6))"
   ]
  },
  {
   "cell_type": "code",
   "execution_count": null,
   "metadata": {},
   "outputs": [],
   "source": [
    "#TODO I: - Regression\n",
    "# a) Trainiere dein Modell mit dem RSI Wert 10. \n",
    "#    Beschreibe die bei welchen Werten des RSI ein Kauf empfohlen wird. \n",
    "# b) Beschreibe in eigenen Worte, was die Länge des betrachteten Intervall auf den RSI für einen\n",
    "#    Einfluss hat. Wann wird im allgemeinen häufiger ein Überkaufter Wert erreicht? Bei längeren\n",
    "#    oder kürzeren Intervallen?"
   ]
  },
  {
   "cell_type": "code",
   "execution_count": null,
   "metadata": {},
   "outputs": [],
   "source": []
  },
  {
   "cell_type": "code",
   "execution_count": null,
   "metadata": {},
   "outputs": [],
   "source": [
    "#TODO II: - Decission Tree\n",
    "# a) Bei der maxDepth von 5 wird ein Feature mit der importance von 0 angegeben. Was passiert, wenn\n",
    "#    du dieses aus den Input-Daten für dein Model herausnimmst? Plotte den Graph für beide Modelle \n",
    "#    (mit maxDepth= 5 und 30). Erkläre in eigenen Worten was passiert ist.\n",
    "# b) Erkläre in eigenen Worten, was der maxDepth Parameter bedeutet. Ist es sinnvoll diesen immer\n",
    "#    maximal zu wählen?"
   ]
  },
  {
   "cell_type": "code",
   "execution_count": null,
   "metadata": {},
   "outputs": [],
   "source": []
  },
  {
   "attachments": {},
   "cell_type": "markdown",
   "metadata": {},
   "source": [
    "### Ausblick vierte Woche\n",
    "- OBV Indikator\n",
    "- Bot fertigstellen\n",
    "\n",
    "- eventuelle: Backtesting Paper schreiben"
   ]
  }
 ],
 "metadata": {
  "kernelspec": {
   "display_name": "Python 3",
   "language": "python",
   "name": "python3"
  },
  "language_info": {
   "codemirror_mode": {
    "name": "ipython",
    "version": 3
   },
   "file_extension": ".py",
   "mimetype": "text/x-python",
   "name": "python",
   "nbconvert_exporter": "python",
   "pygments_lexer": "ipython3",
   "version": "3.9.6"
  },
  "orig_nbformat": 4
 },
 "nbformat": 4,
 "nbformat_minor": 2
}
