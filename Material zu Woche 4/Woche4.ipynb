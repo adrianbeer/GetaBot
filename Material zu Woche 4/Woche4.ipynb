{
 "cells": [
  {
   "cell_type": "code",
   "execution_count": 1,
   "metadata": {},
   "outputs": [],
   "source": [
    "#0. import von relevanten Bibliotheken\n",
    "import numpy as np\n",
    "import pandas as pd\n",
    "import matplotlib.pyplot as plt\n",
    "\n",
    "from sklearn.linear_model import LinearRegression"
   ]
  },
  {
   "attachments": {},
   "cell_type": "markdown",
   "metadata": {},
   "source": [
    "## Woche 4 - OBV und Bot Setup\n",
    "\n",
    "In dieser Woche lernen wir den On-Balance Volume (OBV) Indikator kennen.\n",
    "\n",
    "#### OBV\n",
    "Definition:\n",
    "\n",
    "$OBV_t = OBV_{t-1} + sign(\\frac{p_t}{p_{t-1}}-1) * Volume_{t}$\n",
    "\n",
    "\n",
    "#### Regression mit OBV\n",
    "Wir nutzen den OBV als Input für unser Regression-Model. Anschließend erstellen wir eine Beispielabgabe (mit einem jobfile)\n",
    "\n",
    "#### DecissionTree mit OBV\n",
    "Wir nutzen den OBV als Input für unser DecissionTree-Model. Anschließend erstellen wir eine Beispielabgabe (mit stetigen readjustieren)\n",
    "\n",
    "#### Statische SMA Abgabe\n",
    "Wir zeigen auf, wie eine Abgabe zu Bot, der den SMA als Signalgeber nutzt aussehen kann\n"
   ]
  },
  {
   "cell_type": "code",
   "execution_count": 124,
   "metadata": {},
   "outputs": [],
   "source": [
    "def OBV_berechnen(data:pd.DataFrame):\n",
    "    #benötigt ein DataFrame mit den Spalten \"4a. close (EUR)\" und \"5. volume\"\n",
    "    data[\"OBV\"] = (np.sign(data[\"4a. close (EUR)\"].pct_change()) * data[\"5. volume\"]).cumsum()\n"
   ]
  },
  {
   "cell_type": "code",
   "execution_count": 125,
   "metadata": {},
   "outputs": [],
   "source": [
    "def RSI_berechnen(data:pd.DataFrame,intervall:int):\n",
    "\n",
    "  spalten_name = \"RSI_\"+str(intervall)\n",
    "\n",
    "  # Bestimme die Preisänderung zum jeweiligen Zeitpunkt t-1\n",
    "  delta = data[\"4a. close (EUR)\"].diff()\n",
    "\n",
    "  # Get rid of the first row, which has NaN values\n",
    "  delta = delta[1:]\n",
    "\n",
    "  # Calculate the gains and losses\n",
    "  up = delta.where(delta > 0, 0)\n",
    "  down = -delta.where(delta < 0, 0)\n",
    "\n",
    "  # Calculate the rolling average of the gains and losses\n",
    "  #window_size = 14 #als default\n",
    "  avg_gain = up.rolling(intervall).mean()\n",
    "  avg_loss = down.rolling(intervall).mean()\n",
    "\n",
    "  # Calculate the relative strength\n",
    "  rs = avg_gain / avg_loss\n",
    "\n",
    "  # Calculate the RSI\n",
    "  data[spalten_name] = 100 - (100 / (1 + rs))\n"
   ]
  },
  {
   "cell_type": "code",
   "execution_count": null,
   "metadata": {},
   "outputs": [],
   "source": [
    "#1. laden von dem Datensatz\n",
    "daten = pd.read_csv(\"btc_1h.csv\",index_col=\"date\")\n",
    "daten = daten.sort_index(axis=0)\n",
    "df1 = daten[[\"4a. close (EUR)\",\"5. volume\"]].copy()\n",
    "df1.head()"
   ]
  },
  {
   "cell_type": "code",
   "execution_count": 353,
   "metadata": {},
   "outputs": [],
   "source": [
    "RSI_berechnen(df1,17)"
   ]
  },
  {
   "cell_type": "code",
   "execution_count": 354,
   "metadata": {},
   "outputs": [],
   "source": [
    "OBV_berechnen(df1)"
   ]
  },
  {
   "cell_type": "code",
   "execution_count": null,
   "metadata": {},
   "outputs": [],
   "source": [
    "df1"
   ]
  },
  {
   "cell_type": "code",
   "execution_count": 356,
   "metadata": {},
   "outputs": [],
   "source": [
    "df1[\"OBV_SMA\"] = df1[\"OBV\"].rolling(15).mean()\n",
    "df1[\"OBV_SMA_DIF\"] = df1[\"OBV\"] - df1[\"OBV_SMA\"]"
   ]
  },
  {
   "cell_type": "code",
   "execution_count": 357,
   "metadata": {},
   "outputs": [],
   "source": [
    "#Prozentuale Änderung\n",
    "df1[\"pct\"] = df1[\"4a. close (EUR)\"].pct_change().shift(-1)"
   ]
  },
  {
   "cell_type": "code",
   "execution_count": null,
   "metadata": {},
   "outputs": [],
   "source": [
    "df1.tail(15)"
   ]
  },
  {
   "cell_type": "code",
   "execution_count": 359,
   "metadata": {},
   "outputs": [],
   "source": [
    "df1 = df1.dropna()"
   ]
  },
  {
   "cell_type": "code",
   "execution_count": null,
   "metadata": {},
   "outputs": [],
   "source": [
    "plt.scatter(df1[\"RSI_17\"],df1[\"pct\"])\n",
    "plt.axhline(color=\"r\")"
   ]
  },
  {
   "cell_type": "code",
   "execution_count": null,
   "metadata": {},
   "outputs": [],
   "source": [
    "plt.scatter(df1[\"OBV_SMA_DIF\"],df1[\"pct\"])\n",
    "plt.axhline(color=\"r\")"
   ]
  },
  {
   "cell_type": "code",
   "execution_count": null,
   "metadata": {},
   "outputs": [],
   "source": [
    "df1[[\"OBV\",\"OBV_SMA\"]].plot()"
   ]
  },
  {
   "cell_type": "code",
   "execution_count": null,
   "metadata": {},
   "outputs": [],
   "source": [
    "df1[[\"OBV_SMA_DIF\"]].plot()"
   ]
  },
  {
   "cell_type": "code",
   "execution_count": 364,
   "metadata": {},
   "outputs": [],
   "source": [
    "df = df1.copy()"
   ]
  },
  {
   "attachments": {},
   "cell_type": "markdown",
   "metadata": {},
   "source": [
    "### Regression Beispiel"
   ]
  },
  {
   "cell_type": "code",
   "execution_count": null,
   "metadata": {},
   "outputs": [],
   "source": [
    "#Linear Regession\n",
    "\n",
    "#Training und Test Size aufteilen\n",
    "train_size = int(len(df) * 0.8)\n",
    "train_data = df.iloc[:train_size]\n",
    "test_data = df.iloc[train_size:]\n",
    "\n",
    "model = LinearRegression()\n",
    "model.fit(train_data[[\"OBV_SMA_DIF\"]], train_data[\"pct\"])"
   ]
  },
  {
   "cell_type": "code",
   "execution_count": null,
   "metadata": {},
   "outputs": [],
   "source": [
    "nst = model.intercept_/((-1)*model.coef_)\n",
    "nst"
   ]
  },
  {
   "cell_type": "code",
   "execution_count": null,
   "metadata": {},
   "outputs": [],
   "source": [
    "#Was unsere Regression macht:\n",
    "X_train = train_data[\"OBV_SMA_DIF\"].values[:,np.newaxis]\n",
    "y_train = train_data[\"pct\"].values\n",
    "\n",
    "plt.scatter(X_train,y_train,color=\"g\")\n",
    "plt.plot(X_train,model.predict(X_train),color=\"black\")\n",
    "plt.axhline(color=\"r\")\n",
    "\n",
    "nst = model.intercept_/((-1)*model.coef_)\n",
    "nst"
   ]
  },
  {
   "cell_type": "code",
   "execution_count": 368,
   "metadata": {},
   "outputs": [],
   "source": [
    "#Was unsere Regression macht:\n",
    "X_test = test_data[\"OBV_SMA_DIF\"].values[:,np.newaxis]\n",
    "y_test = test_data[\"pct\"].values\n",
    "plt.scatter(X_test,y_test,color=\"g\")\n",
    "plt.plot(X_test,model.predict(X_test),color=\"black\")\n",
    "plt.axhline(color=\"r\")"
   ]
  },
  {
   "cell_type": "code",
   "execution_count": 370,
   "metadata": {},
   "outputs": [],
   "source": [
    "#predict\n",
    "y1 = model.predict(df[[\"OBV_SMA_DIF\"]].iloc[train_size:]) "
   ]
  },
  {
   "cell_type": "code",
   "execution_count": null,
   "metadata": {},
   "outputs": [],
   "source": [
    "#PF bestimmen\n",
    "PF = pd.DataFrame(df[\"pct\"].iloc[train_size:])\n",
    "PF[\"pred\"] = y1\n",
    "\n",
    "PF[\"PF_17\"] = (PF[\"pred\"]>0.0) * PF[\"pct\"]\n",
    "PF[\"myPF_17\"] = (PF[\"PF_17\"] +1).cumprod()\n",
    "\n",
    "PF[\"PF_BM\"] =  PF[\"pct\"]\n",
    "PF[\"myPF_BM\"] = (PF[\"PF_BM\"] +1).cumprod()\n",
    "\n",
    "PF.tail()"
   ]
  },
  {
   "cell_type": "code",
   "execution_count": null,
   "metadata": {},
   "outputs": [],
   "source": [
    "#Plotte dein Ergebnis\n",
    "PF[[\"myPF_BM\",\"myPF_17\"]].plot(figsize=(16,6))"
   ]
  },
  {
   "attachments": {},
   "cell_type": "markdown",
   "metadata": {},
   "source": [
    "### Baue einen Bot mit dem Regressionsmodel\n",
    "\n",
    "mit joblib-File (somit \"konstanter Trainingsdatensatz\")"
   ]
  },
  {
   "cell_type": "code",
   "execution_count": 386,
   "metadata": {},
   "outputs": [],
   "source": [
    "#1. speichere dein Model als pickle File ab\n",
    "from joblib import dump, load\n",
    "dump(model, 'regression1.joblib') "
   ]
  },
  {
   "cell_type": "code",
   "execution_count": 455,
   "metadata": {},
   "outputs": [],
   "source": [
    "def OBV_berechnen(data:pd.DataFrame):\n",
    "    #benötigt ein DataFrame mit den Spalten \"4a. close (EUR)\" und \"5. volume\"\n",
    "    data[\"OBV\"] = (np.sign(data[\"4a. close (EUR)\"].pct_change()) * data[\"5. volume\"]).cumsum()\n",
    "\n",
    "def Bot1(data:pd.DataFrame):\n",
    "    #wir nehmen die letzten 1000 stündlichen Daten entgegen und verarbeiten diese\n",
    "    #mit unserem Regressionsmodel aus dem joblib-File, um das Signal BTC oder EUR zurückzugegeben\n",
    "\n",
    "\n",
    "    #bearbeite die Daten, sodass wir \"OBV_SMA_DIF\" als Signalgeber haben\n",
    "    OBV_berechnen(data)\n",
    "\n",
    "    data[\"OBV_SMA\"] = data[\"OBV\"].rolling(15).mean()\n",
    "    data[\"OBV_SMA_DIF\"] = data[\"OBV\"] - data[\"OBV_SMA\"]\n",
    "    \n",
    "    #lade das Regressionsmodel\n",
    "    bot1_model = load(\"regression1.joblib\")\n",
    "    \n",
    "    sig = bot1_model.predict(data[[\"OBV_SMA_DIF\"]].iloc[-1:])\n",
    "    \n",
    "    if sig >0.0:\n",
    "        OUT = \"BTC\"\n",
    "    else:\n",
    "        OUT = \"EUR\"\n",
    "\n",
    "    return OUT\n",
    "    "
   ]
  },
  {
   "cell_type": "code",
   "execution_count": null,
   "metadata": {},
   "outputs": [],
   "source": [
    "df[\"OBV_SMA_DIF\"].tail(25)"
   ]
  },
  {
   "cell_type": "code",
   "execution_count": null,
   "metadata": {},
   "outputs": [],
   "source": [
    "daten_bot= daten[[\"4a. close (EUR)\",\"5. volume\"]].copy()\n",
    "Bot1(daten_bot)"
   ]
  },
  {
   "attachments": {},
   "cell_type": "markdown",
   "metadata": {},
   "source": [
    "### DecissionTree Beispiel"
   ]
  },
  {
   "cell_type": "code",
   "execution_count": null,
   "metadata": {},
   "outputs": [],
   "source": [
    "import numpy as np\n",
    "from sklearn.tree import DecisionTreeClassifier\n",
    "\n",
    "\n",
    "# Aufteilen der Daten in Trainings- und Testdaten\n",
    "train_size = int(len(df) * 0.8)\n",
    "train_data = df.iloc[:train_size]\n",
    "test_data = df.iloc[train_size:]\n",
    "\n",
    "X_train = train_data[['5. volume','RSI_17', #'OBV', 'OBV_SMA',\n",
    "         'OBV_SMA_DIF']].to_numpy()      \n",
    "Y_train = (train_data[\"pct\"]>0.0).to_numpy()\n",
    "\n",
    "X_test = test_data[['5. volume', 'RSI_17' , #'OBV', 'OBV_SMA',\n",
    "         'OBV_SMA_DIF']].to_numpy()                            \n",
    "Y_test = (test_data[\"pct\"]>0.0).to_numpy()\n",
    "\n",
    "\n",
    "# Fit regression model\n",
    "regr_1 = DecisionTreeClassifier(max_depth=15,random_state=1234)\n",
    "regr_2 = DecisionTreeClassifier(max_depth=30,random_state=1234)    \n",
    "regr_1.fit(X_train, Y_train)\n",
    "regr_2.fit(X_train, Y_train)"
   ]
  },
  {
   "cell_type": "code",
   "execution_count": null,
   "metadata": {},
   "outputs": [],
   "source": [
    "#predict\n",
    "y_1 = regr_1.predict(X_test) \n",
    "y_2 = regr_2.predict(X_test)\n",
    "\n",
    "PF = pd.DataFrame(df[\"pct\"].iloc[train_size:])\n",
    "PF[\"pred\"] = y_1\n",
    "PF[\"pred2\"] = y_2\n",
    "\n",
    "PF[\"PF_17\"] = (PF[\"pred\"]>0.0) * PF[\"pct\"]\n",
    "PF[\"myPF_17\"] = (PF[\"PF_17\"] +1).cumprod()\n",
    "\n",
    "PF[\"PF_17v2\"] = (PF[\"pred2\"]>0.0) * PF[\"pct\"]\n",
    "PF[\"myPF_17v2\"] = (PF[\"PF_17v2\"] +1).cumprod()\n",
    "\n",
    "PF[\"PF_BM\"] =  PF[\"pct\"]\n",
    "PF[\"myPF_BM\"] = (PF[\"PF_BM\"] +1).cumprod()\n",
    "\n",
    "PF.tail()"
   ]
  },
  {
   "cell_type": "code",
   "execution_count": null,
   "metadata": {},
   "outputs": [],
   "source": [
    "PF[[\"myPF_BM\",\"myPF_17\",\"myPF_17v2\"]].plot(figsize=(16,6))      #Classifier"
   ]
  },
  {
   "attachments": {},
   "cell_type": "markdown",
   "metadata": {},
   "source": [
    "### Baue Bot mit Decission Tree\n",
    "\n",
    "neues Training des Modell mit den Input Daten, sodass dieses fortlaufend readjustiert wird\n"
   ]
  },
  {
   "cell_type": "code",
   "execution_count": 488,
   "metadata": {},
   "outputs": [],
   "source": [
    "from sklearn.tree import DecisionTreeClassifier\n",
    "\n",
    "def OBV_berechnen(data:pd.DataFrame):\n",
    "    #benötigt ein DataFrame mit den Spalten \"4a. close (EUR)\" und \"5. volume\"\n",
    "    data[\"OBV\"] = (np.sign(data[\"4a. close (EUR)\"].pct_change()) * data[\"5. volume\"]).cumsum()\n",
    "\n",
    "def RSI_berechnen(data:pd.DataFrame,intervall:int):\n",
    "\n",
    "  spalten_name = \"RSI_\"+str(intervall)\n",
    "\n",
    "  # Bestimme die Preisänderung zum jeweiligen Zeitpunkt t-1\n",
    "  delta = data[\"4a. close (EUR)\"].diff()\n",
    "\n",
    "  # Get rid of the first row, which has NaN values\n",
    "  delta = delta[1:]\n",
    "\n",
    "  # Calculate the gains and losses\n",
    "  up = delta.where(delta > 0, 0)\n",
    "  down = -delta.where(delta < 0, 0)\n",
    "\n",
    "  # Calculate the rolling average of the gains and losses\n",
    "  #window_size = 14 #als default\n",
    "  avg_gain = up.rolling(intervall).mean()\n",
    "  avg_loss = down.rolling(intervall).mean()\n",
    "\n",
    "  # Calculate the relative strength\n",
    "  rs = avg_gain / avg_loss\n",
    "\n",
    "  # Calculate the RSI\n",
    "  data[spalten_name] = 100 - (100 / (1 + rs))\n",
    "\n",
    "def bot2(data:pd.DataFrame):\n",
    "    #verwendet alle Zeitpunkte bis auf den letzten zum Training des Decission Tree und gibt \n",
    "    #anschließend eine Prediction für das aktuelle Zeitintervall ab.\n",
    "    #Das Modell trainiert sich bei Eingabe eines neuen DataFrame erneut.\n",
    "\n",
    "\n",
    "    #bestimme RSI_17\n",
    "    RSI_berechnen(data,17)\n",
    "\n",
    "    #OBV_SMA_DIF bestimmen SMA intervall = 15\n",
    "    OBV_berechnen(data)\n",
    "    data[\"OBV_SMA\"] = data[\"OBV\"].rolling(15).mean()\n",
    "    data[\"OBV_SMA_DIF\"] = data[\"OBV\"] - data[\"OBV_SMA\"]\n",
    "    \n",
    "    #WICHTIG für DecissionTree\n",
    "    data = data.dropna()\n",
    "\n",
    "    #pct bestimmen und shiften\n",
    "    data[\"pct\"] = data[\"4a. close (EUR)\"].pct_change().shift(-1)\n",
    "    \n",
    "    #Traindata 999h zuvor\n",
    "    train_data = data.iloc[:-1]\n",
    "    \n",
    "    X_train = train_data[['5. volume','RSI_17','OBV_SMA_DIF']].to_numpy()      \n",
    "    Y_train = (train_data[\"pct\"]>0.0).to_numpy()\n",
    "\n",
    "    #Setze das Model auf\n",
    "    bot2_model = DecisionTreeClassifier(max_depth=15,random_state=1234)\n",
    "\n",
    "    bot2_model.fit(X_train,Y_train)\n",
    "    \n",
    "    #aktuellsten Zeitpunkt für Prediction verwenden\n",
    "    sig = bot2_model.predict(data[['5. volume','RSI_17','OBV_SMA_DIF']].iloc[-1:])\n",
    "    \n",
    "    if sig >0.0:            #bei Classification ist \">0.0\" wichtig! \n",
    "        OUT = \"BTC\"\n",
    "    else:\n",
    "        OUT = \"EUR\"\n",
    "\n",
    "    return OUT\n",
    "    "
   ]
  },
  {
   "cell_type": "code",
   "execution_count": null,
   "metadata": {},
   "outputs": [],
   "source": [
    "bot2(daten_bot.iloc[950:].copy())"
   ]
  },
  {
   "attachments": {},
   "cell_type": "markdown",
   "metadata": {},
   "source": [
    "### SMA Beispiel"
   ]
  },
  {
   "cell_type": "code",
   "execution_count": 501,
   "metadata": {},
   "outputs": [],
   "source": [
    "def sma(data: pd.DataFrame,intervall:int):\n",
    "  #diese Funktion berechnet den SMA_intervall von dem Input data\n",
    "  #der SMA wird immer von dem Column \"4a. close (EUR)\" berechnet\n",
    "  #ACHTUNG: Stelle sicher, dass data immer diese Spalte besitzt\n",
    "  spalten_name = \"SMA_\"+str(intervall)\n",
    "  data[spalten_name] = data[\"4a. close (EUR)\"].rolling(intervall).mean()\n",
    "\n",
    "sma(df,10)\n",
    "sma(df,15)\n",
    "\n",
    "df2 = df.dropna()"
   ]
  },
  {
   "cell_type": "code",
   "execution_count": null,
   "metadata": {},
   "outputs": [],
   "source": [
    "df2.head(2)"
   ]
  },
  {
   "cell_type": "code",
   "execution_count": null,
   "metadata": {},
   "outputs": [],
   "source": [
    "#SMA10 und SMA15 Kombination (für 1h intervalle)\n",
    "df[\"Sig_TODO\"] = (df[\"4a. close (EUR)\"] > df[\"SMA_10\"]) & (df[\"4a. close (EUR)\"] > df[\"SMA_15\"])\n",
    "df[\"PF_TODO\"] = df[\"Sig_TODO\"] * df[\"pct\"]\n",
    "df[\"myPF_TODO\"] = (df[\"PF_TODO\"] +1).cumprod()\n",
    "\n",
    "#Benchmark\n",
    "df[\"PF_BM\"] =  df[\"pct\"]\n",
    "df[\"myPF_BM\"] = (df[\"PF_BM\"] +1).cumprod()\n",
    "\n",
    "df[[\"myPF_BM\",\"myPF_TODO\"]].plot(figsize=(16,6))\n"
   ]
  },
  {
   "attachments": {},
   "cell_type": "markdown",
   "metadata": {},
   "source": [
    "### Baue Bot mit statischen Signalen\n",
    "\n",
    "kein ML; Sehr schnelle Berechnung!"
   ]
  },
  {
   "cell_type": "code",
   "execution_count": 506,
   "metadata": {},
   "outputs": [],
   "source": [
    "def sma(data: pd.DataFrame,intervall:int):\n",
    "  #diese Funktion berechnet den SMA_intervall von dem Input data\n",
    "  #der SMA wird immer von dem Column \"4a. close (EUR)\" berechnet\n",
    "  #ACHTUNG: Stelle sicher, dass data immer diese Spalte besitzt\n",
    "  spalten_name = \"SMA_\"+str(intervall)\n",
    "  data[spalten_name] = data[\"4a. close (EUR)\"].rolling(intervall).mean()\n",
    "\n",
    "def bot3(data:pd.DataFrame):\n",
    "  #bestimmt den SMA10 sowie SMA15 und leitet aus diesen das Signal her\n",
    "\n",
    "  sma(data,10)\n",
    "  sma(data,15)\n",
    "\n",
    "  data[\"Sig_BOT\"] = (data[\"4a. close (EUR)\"] > data[\"SMA_10\"]) & (data[\"4a. close (EUR)\"] > data[\"SMA_15\"])\n",
    "  \n",
    "  sig = data[\"Sig_BOT\"][-1]\n",
    "\n",
    "  print(sig)\n",
    "  \n",
    "  if sig >0.0:            #bei Classification ist \">0.0\" wichtig! \n",
    "    OUT = \"BTC\"\n",
    "  else:\n",
    "    OUT = \"EUR\"\n",
    "\n",
    "  return OUT"
   ]
  },
  {
   "cell_type": "code",
   "execution_count": null,
   "metadata": {},
   "outputs": [],
   "source": [
    "bot3(daten_bot)"
   ]
  }
 ],
 "metadata": {
  "kernelspec": {
   "display_name": "Python 3",
   "language": "python",
   "name": "python3"
  },
  "language_info": {
   "codemirror_mode": {
    "name": "ipython",
    "version": 3
   },
   "file_extension": ".py",
   "mimetype": "text/x-python",
   "name": "python",
   "nbconvert_exporter": "python",
   "pygments_lexer": "ipython3",
   "version": "3.9.6"
  },
  "orig_nbformat": 4
 },
 "nbformat": 4,
 "nbformat_minor": 2
}
